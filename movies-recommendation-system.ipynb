{
 "cells": [
  {
   "cell_type": "markdown",
   "id": "0aa3ab38",
   "metadata": {},
   "source": [
    "# Building a Content Based Movies Recommendation System\n",
    "Content-based filtering uses item features to recommend other items similar to what the user likes, based on their previous actions or explicit feedback."
   ]
  },
  {
   "cell_type": "code",
   "execution_count": 2,
   "id": "0990f25c",
   "metadata": {
    "execution": {
     "iopub.execute_input": "2023-02-10T21:05:35.017794Z",
     "iopub.status.busy": "2023-02-10T21:05:35.017335Z",
     "iopub.status.idle": "2023-02-10T21:05:35.024517Z",
     "shell.execute_reply": "2023-02-10T21:05:35.022859Z",
     "shell.execute_reply.started": "2023-02-10T21:05:35.017756Z"
    }
   },
   "outputs": [],
   "source": [
    "## Importing Librabries\n",
    "import ast\n",
    "import numpy as np\n",
    "import pandas as pd"
   ]
  },
  {
   "cell_type": "markdown",
   "id": "e2735406",
   "metadata": {},
   "source": [
    "#### There are a lots of Datasets let's read one by one"
   ]
  },
  {
   "cell_type": "code",
   "execution_count": 3,
   "id": "4a5ff6a7",
   "metadata": {
    "execution": {
     "iopub.execute_input": "2023-02-10T21:05:35.028880Z",
     "iopub.status.busy": "2023-02-10T21:05:35.028373Z",
     "iopub.status.idle": "2023-02-10T21:05:40.287460Z",
     "shell.execute_reply": "2023-02-10T21:05:40.285801Z",
     "shell.execute_reply.started": "2023-02-10T21:05:35.028826Z"
    }
   },
   "outputs": [
    {
     "data": {
      "text/html": [
       "<div>\n",
       "<style scoped>\n",
       "    .dataframe tbody tr th:only-of-type {\n",
       "        vertical-align: middle;\n",
       "    }\n",
       "\n",
       "    .dataframe tbody tr th {\n",
       "        vertical-align: top;\n",
       "    }\n",
       "\n",
       "    .dataframe thead th {\n",
       "        text-align: right;\n",
       "    }\n",
       "</style>\n",
       "<table border=\"1\" class=\"dataframe\">\n",
       "  <thead>\n",
       "    <tr style=\"text-align: right;\">\n",
       "      <th></th>\n",
       "      <th>cast</th>\n",
       "      <th>crew</th>\n",
       "      <th>id</th>\n",
       "    </tr>\n",
       "  </thead>\n",
       "  <tbody>\n",
       "    <tr>\n",
       "      <th>0</th>\n",
       "      <td>[{'cast_id': 14, 'character': 'Woody (voice)',...</td>\n",
       "      <td>[{'credit_id': '52fe4284c3a36847f8024f49', 'de...</td>\n",
       "      <td>862</td>\n",
       "    </tr>\n",
       "    <tr>\n",
       "      <th>1</th>\n",
       "      <td>[{'cast_id': 1, 'character': 'Alan Parrish', '...</td>\n",
       "      <td>[{'credit_id': '52fe44bfc3a36847f80a7cd1', 'de...</td>\n",
       "      <td>8844</td>\n",
       "    </tr>\n",
       "    <tr>\n",
       "      <th>2</th>\n",
       "      <td>[{'cast_id': 2, 'character': 'Max Goldman', 'c...</td>\n",
       "      <td>[{'credit_id': '52fe466a9251416c75077a89', 'de...</td>\n",
       "      <td>15602</td>\n",
       "    </tr>\n",
       "    <tr>\n",
       "      <th>3</th>\n",
       "      <td>[{'cast_id': 1, 'character': \"Savannah 'Vannah...</td>\n",
       "      <td>[{'credit_id': '52fe44779251416c91011acb', 'de...</td>\n",
       "      <td>31357</td>\n",
       "    </tr>\n",
       "    <tr>\n",
       "      <th>4</th>\n",
       "      <td>[{'cast_id': 1, 'character': 'George Banks', '...</td>\n",
       "      <td>[{'credit_id': '52fe44959251416c75039ed7', 'de...</td>\n",
       "      <td>11862</td>\n",
       "    </tr>\n",
       "  </tbody>\n",
       "</table>\n",
       "</div>"
      ],
      "text/plain": [
       "                                                cast  \\\n",
       "0  [{'cast_id': 14, 'character': 'Woody (voice)',...   \n",
       "1  [{'cast_id': 1, 'character': 'Alan Parrish', '...   \n",
       "2  [{'cast_id': 2, 'character': 'Max Goldman', 'c...   \n",
       "3  [{'cast_id': 1, 'character': \"Savannah 'Vannah...   \n",
       "4  [{'cast_id': 1, 'character': 'George Banks', '...   \n",
       "\n",
       "                                                crew     id  \n",
       "0  [{'credit_id': '52fe4284c3a36847f8024f49', 'de...    862  \n",
       "1  [{'credit_id': '52fe44bfc3a36847f80a7cd1', 'de...   8844  \n",
       "2  [{'credit_id': '52fe466a9251416c75077a89', 'de...  15602  \n",
       "3  [{'credit_id': '52fe44779251416c91011acb', 'de...  31357  \n",
       "4  [{'credit_id': '52fe44959251416c75039ed7', 'de...  11862  "
      ]
     },
     "execution_count": 3,
     "metadata": {},
     "output_type": "execute_result"
    }
   ],
   "source": [
    "credits = pd.read_csv('/kaggle/input/the-movies-dataset/credits.csv')\n",
    "credits.head()"
   ]
  },
  {
   "cell_type": "code",
   "execution_count": 4,
   "id": "207647ee",
   "metadata": {
    "execution": {
     "iopub.execute_input": "2023-02-10T21:05:40.289945Z",
     "iopub.status.busy": "2023-02-10T21:05:40.289547Z",
     "iopub.status.idle": "2023-02-10T21:05:40.501241Z",
     "shell.execute_reply": "2023-02-10T21:05:40.499862Z",
     "shell.execute_reply.started": "2023-02-10T21:05:40.289908Z"
    }
   },
   "outputs": [
    {
     "data": {
      "text/html": [
       "<div>\n",
       "<style scoped>\n",
       "    .dataframe tbody tr th:only-of-type {\n",
       "        vertical-align: middle;\n",
       "    }\n",
       "\n",
       "    .dataframe tbody tr th {\n",
       "        vertical-align: top;\n",
       "    }\n",
       "\n",
       "    .dataframe thead th {\n",
       "        text-align: right;\n",
       "    }\n",
       "</style>\n",
       "<table border=\"1\" class=\"dataframe\">\n",
       "  <thead>\n",
       "    <tr style=\"text-align: right;\">\n",
       "      <th></th>\n",
       "      <th>id</th>\n",
       "      <th>keywords</th>\n",
       "    </tr>\n",
       "  </thead>\n",
       "  <tbody>\n",
       "    <tr>\n",
       "      <th>0</th>\n",
       "      <td>862</td>\n",
       "      <td>[{'id': 931, 'name': 'jealousy'}, {'id': 4290,...</td>\n",
       "    </tr>\n",
       "    <tr>\n",
       "      <th>1</th>\n",
       "      <td>8844</td>\n",
       "      <td>[{'id': 10090, 'name': 'board game'}, {'id': 1...</td>\n",
       "    </tr>\n",
       "    <tr>\n",
       "      <th>2</th>\n",
       "      <td>15602</td>\n",
       "      <td>[{'id': 1495, 'name': 'fishing'}, {'id': 12392...</td>\n",
       "    </tr>\n",
       "    <tr>\n",
       "      <th>3</th>\n",
       "      <td>31357</td>\n",
       "      <td>[{'id': 818, 'name': 'based on novel'}, {'id':...</td>\n",
       "    </tr>\n",
       "    <tr>\n",
       "      <th>4</th>\n",
       "      <td>11862</td>\n",
       "      <td>[{'id': 1009, 'name': 'baby'}, {'id': 1599, 'n...</td>\n",
       "    </tr>\n",
       "  </tbody>\n",
       "</table>\n",
       "</div>"
      ],
      "text/plain": [
       "      id                                           keywords\n",
       "0    862  [{'id': 931, 'name': 'jealousy'}, {'id': 4290,...\n",
       "1   8844  [{'id': 10090, 'name': 'board game'}, {'id': 1...\n",
       "2  15602  [{'id': 1495, 'name': 'fishing'}, {'id': 12392...\n",
       "3  31357  [{'id': 818, 'name': 'based on novel'}, {'id':...\n",
       "4  11862  [{'id': 1009, 'name': 'baby'}, {'id': 1599, 'n..."
      ]
     },
     "execution_count": 4,
     "metadata": {},
     "output_type": "execute_result"
    }
   ],
   "source": [
    "keywords = pd.read_csv('/kaggle/input/the-movies-dataset/keywords.csv')\n",
    "keywords.head()"
   ]
  },
  {
   "cell_type": "code",
   "execution_count": 5,
   "id": "30dcfef1",
   "metadata": {
    "execution": {
     "iopub.execute_input": "2023-02-10T21:05:40.503371Z",
     "iopub.status.busy": "2023-02-10T21:05:40.502928Z",
     "iopub.status.idle": "2023-02-10T21:05:40.519793Z",
     "shell.execute_reply": "2023-02-10T21:05:40.518335Z",
     "shell.execute_reply.started": "2023-02-10T21:05:40.503327Z"
    }
   },
   "outputs": [],
   "source": [
    "Id = keywords['id']"
   ]
  },
  {
   "cell_type": "code",
   "execution_count": 6,
   "id": "6baed66a",
   "metadata": {
    "execution": {
     "iopub.execute_input": "2023-02-10T21:05:40.524006Z",
     "iopub.status.busy": "2023-02-10T21:05:40.523423Z",
     "iopub.status.idle": "2023-02-10T21:05:41.923585Z",
     "shell.execute_reply": "2023-02-10T21:05:41.922095Z",
     "shell.execute_reply.started": "2023-02-10T21:05:40.523949Z"
    }
   },
   "outputs": [
    {
     "name": "stderr",
     "output_type": "stream",
     "text": [
      "/opt/conda/lib/python3.7/site-packages/IPython/core/interactiveshell.py:3552: DtypeWarning: Columns (10) have mixed types.Specify dtype option on import or set low_memory=False.\n",
      "  exec(code_obj, self.user_global_ns, self.user_ns)\n"
     ]
    },
    {
     "data": {
      "text/html": [
       "<div>\n",
       "<style scoped>\n",
       "    .dataframe tbody tr th:only-of-type {\n",
       "        vertical-align: middle;\n",
       "    }\n",
       "\n",
       "    .dataframe tbody tr th {\n",
       "        vertical-align: top;\n",
       "    }\n",
       "\n",
       "    .dataframe thead th {\n",
       "        text-align: right;\n",
       "    }\n",
       "</style>\n",
       "<table border=\"1\" class=\"dataframe\">\n",
       "  <thead>\n",
       "    <tr style=\"text-align: right;\">\n",
       "      <th></th>\n",
       "      <th>adult</th>\n",
       "      <th>belongs_to_collection</th>\n",
       "      <th>budget</th>\n",
       "      <th>genres</th>\n",
       "      <th>homepage</th>\n",
       "      <th>id</th>\n",
       "      <th>imdb_id</th>\n",
       "      <th>original_language</th>\n",
       "      <th>original_title</th>\n",
       "      <th>overview</th>\n",
       "      <th>...</th>\n",
       "      <th>release_date</th>\n",
       "      <th>revenue</th>\n",
       "      <th>runtime</th>\n",
       "      <th>spoken_languages</th>\n",
       "      <th>status</th>\n",
       "      <th>tagline</th>\n",
       "      <th>title</th>\n",
       "      <th>video</th>\n",
       "      <th>vote_average</th>\n",
       "      <th>vote_count</th>\n",
       "    </tr>\n",
       "  </thead>\n",
       "  <tbody>\n",
       "    <tr>\n",
       "      <th>0</th>\n",
       "      <td>False</td>\n",
       "      <td>{'id': 10194, 'name': 'Toy Story Collection', ...</td>\n",
       "      <td>30000000</td>\n",
       "      <td>[{'id': 16, 'name': 'Animation'}, {'id': 35, '...</td>\n",
       "      <td>http://toystory.disney.com/toy-story</td>\n",
       "      <td>862</td>\n",
       "      <td>tt0114709</td>\n",
       "      <td>en</td>\n",
       "      <td>Toy Story</td>\n",
       "      <td>Led by Woody, Andy's toys live happily in his ...</td>\n",
       "      <td>...</td>\n",
       "      <td>1995-10-30</td>\n",
       "      <td>373554033.0</td>\n",
       "      <td>81.0</td>\n",
       "      <td>[{'iso_639_1': 'en', 'name': 'English'}]</td>\n",
       "      <td>Released</td>\n",
       "      <td>NaN</td>\n",
       "      <td>Toy Story</td>\n",
       "      <td>False</td>\n",
       "      <td>7.7</td>\n",
       "      <td>5415.0</td>\n",
       "    </tr>\n",
       "    <tr>\n",
       "      <th>1</th>\n",
       "      <td>False</td>\n",
       "      <td>NaN</td>\n",
       "      <td>65000000</td>\n",
       "      <td>[{'id': 12, 'name': 'Adventure'}, {'id': 14, '...</td>\n",
       "      <td>NaN</td>\n",
       "      <td>8844</td>\n",
       "      <td>tt0113497</td>\n",
       "      <td>en</td>\n",
       "      <td>Jumanji</td>\n",
       "      <td>When siblings Judy and Peter discover an encha...</td>\n",
       "      <td>...</td>\n",
       "      <td>1995-12-15</td>\n",
       "      <td>262797249.0</td>\n",
       "      <td>104.0</td>\n",
       "      <td>[{'iso_639_1': 'en', 'name': 'English'}, {'iso...</td>\n",
       "      <td>Released</td>\n",
       "      <td>Roll the dice and unleash the excitement!</td>\n",
       "      <td>Jumanji</td>\n",
       "      <td>False</td>\n",
       "      <td>6.9</td>\n",
       "      <td>2413.0</td>\n",
       "    </tr>\n",
       "    <tr>\n",
       "      <th>2</th>\n",
       "      <td>False</td>\n",
       "      <td>{'id': 119050, 'name': 'Grumpy Old Men Collect...</td>\n",
       "      <td>0</td>\n",
       "      <td>[{'id': 10749, 'name': 'Romance'}, {'id': 35, ...</td>\n",
       "      <td>NaN</td>\n",
       "      <td>15602</td>\n",
       "      <td>tt0113228</td>\n",
       "      <td>en</td>\n",
       "      <td>Grumpier Old Men</td>\n",
       "      <td>A family wedding reignites the ancient feud be...</td>\n",
       "      <td>...</td>\n",
       "      <td>1995-12-22</td>\n",
       "      <td>0.0</td>\n",
       "      <td>101.0</td>\n",
       "      <td>[{'iso_639_1': 'en', 'name': 'English'}]</td>\n",
       "      <td>Released</td>\n",
       "      <td>Still Yelling. Still Fighting. Still Ready for...</td>\n",
       "      <td>Grumpier Old Men</td>\n",
       "      <td>False</td>\n",
       "      <td>6.5</td>\n",
       "      <td>92.0</td>\n",
       "    </tr>\n",
       "    <tr>\n",
       "      <th>3</th>\n",
       "      <td>False</td>\n",
       "      <td>NaN</td>\n",
       "      <td>16000000</td>\n",
       "      <td>[{'id': 35, 'name': 'Comedy'}, {'id': 18, 'nam...</td>\n",
       "      <td>NaN</td>\n",
       "      <td>31357</td>\n",
       "      <td>tt0114885</td>\n",
       "      <td>en</td>\n",
       "      <td>Waiting to Exhale</td>\n",
       "      <td>Cheated on, mistreated and stepped on, the wom...</td>\n",
       "      <td>...</td>\n",
       "      <td>1995-12-22</td>\n",
       "      <td>81452156.0</td>\n",
       "      <td>127.0</td>\n",
       "      <td>[{'iso_639_1': 'en', 'name': 'English'}]</td>\n",
       "      <td>Released</td>\n",
       "      <td>Friends are the people who let you be yourself...</td>\n",
       "      <td>Waiting to Exhale</td>\n",
       "      <td>False</td>\n",
       "      <td>6.1</td>\n",
       "      <td>34.0</td>\n",
       "    </tr>\n",
       "    <tr>\n",
       "      <th>4</th>\n",
       "      <td>False</td>\n",
       "      <td>{'id': 96871, 'name': 'Father of the Bride Col...</td>\n",
       "      <td>0</td>\n",
       "      <td>[{'id': 35, 'name': 'Comedy'}]</td>\n",
       "      <td>NaN</td>\n",
       "      <td>11862</td>\n",
       "      <td>tt0113041</td>\n",
       "      <td>en</td>\n",
       "      <td>Father of the Bride Part II</td>\n",
       "      <td>Just when George Banks has recovered from his ...</td>\n",
       "      <td>...</td>\n",
       "      <td>1995-02-10</td>\n",
       "      <td>76578911.0</td>\n",
       "      <td>106.0</td>\n",
       "      <td>[{'iso_639_1': 'en', 'name': 'English'}]</td>\n",
       "      <td>Released</td>\n",
       "      <td>Just When His World Is Back To Normal... He's ...</td>\n",
       "      <td>Father of the Bride Part II</td>\n",
       "      <td>False</td>\n",
       "      <td>5.7</td>\n",
       "      <td>173.0</td>\n",
       "    </tr>\n",
       "  </tbody>\n",
       "</table>\n",
       "<p>5 rows × 24 columns</p>\n",
       "</div>"
      ],
      "text/plain": [
       "   adult                              belongs_to_collection    budget  \\\n",
       "0  False  {'id': 10194, 'name': 'Toy Story Collection', ...  30000000   \n",
       "1  False                                                NaN  65000000   \n",
       "2  False  {'id': 119050, 'name': 'Grumpy Old Men Collect...         0   \n",
       "3  False                                                NaN  16000000   \n",
       "4  False  {'id': 96871, 'name': 'Father of the Bride Col...         0   \n",
       "\n",
       "                                              genres  \\\n",
       "0  [{'id': 16, 'name': 'Animation'}, {'id': 35, '...   \n",
       "1  [{'id': 12, 'name': 'Adventure'}, {'id': 14, '...   \n",
       "2  [{'id': 10749, 'name': 'Romance'}, {'id': 35, ...   \n",
       "3  [{'id': 35, 'name': 'Comedy'}, {'id': 18, 'nam...   \n",
       "4                     [{'id': 35, 'name': 'Comedy'}]   \n",
       "\n",
       "                               homepage     id    imdb_id original_language  \\\n",
       "0  http://toystory.disney.com/toy-story    862  tt0114709                en   \n",
       "1                                   NaN   8844  tt0113497                en   \n",
       "2                                   NaN  15602  tt0113228                en   \n",
       "3                                   NaN  31357  tt0114885                en   \n",
       "4                                   NaN  11862  tt0113041                en   \n",
       "\n",
       "                original_title  \\\n",
       "0                    Toy Story   \n",
       "1                      Jumanji   \n",
       "2             Grumpier Old Men   \n",
       "3            Waiting to Exhale   \n",
       "4  Father of the Bride Part II   \n",
       "\n",
       "                                            overview  ... release_date  \\\n",
       "0  Led by Woody, Andy's toys live happily in his ...  ...   1995-10-30   \n",
       "1  When siblings Judy and Peter discover an encha...  ...   1995-12-15   \n",
       "2  A family wedding reignites the ancient feud be...  ...   1995-12-22   \n",
       "3  Cheated on, mistreated and stepped on, the wom...  ...   1995-12-22   \n",
       "4  Just when George Banks has recovered from his ...  ...   1995-02-10   \n",
       "\n",
       "       revenue runtime                                   spoken_languages  \\\n",
       "0  373554033.0    81.0           [{'iso_639_1': 'en', 'name': 'English'}]   \n",
       "1  262797249.0   104.0  [{'iso_639_1': 'en', 'name': 'English'}, {'iso...   \n",
       "2          0.0   101.0           [{'iso_639_1': 'en', 'name': 'English'}]   \n",
       "3   81452156.0   127.0           [{'iso_639_1': 'en', 'name': 'English'}]   \n",
       "4   76578911.0   106.0           [{'iso_639_1': 'en', 'name': 'English'}]   \n",
       "\n",
       "     status                                            tagline  \\\n",
       "0  Released                                                NaN   \n",
       "1  Released          Roll the dice and unleash the excitement!   \n",
       "2  Released  Still Yelling. Still Fighting. Still Ready for...   \n",
       "3  Released  Friends are the people who let you be yourself...   \n",
       "4  Released  Just When His World Is Back To Normal... He's ...   \n",
       "\n",
       "                         title  video vote_average vote_count  \n",
       "0                    Toy Story  False          7.7     5415.0  \n",
       "1                      Jumanji  False          6.9     2413.0  \n",
       "2             Grumpier Old Men  False          6.5       92.0  \n",
       "3            Waiting to Exhale  False          6.1       34.0  \n",
       "4  Father of the Bride Part II  False          5.7      173.0  \n",
       "\n",
       "[5 rows x 24 columns]"
      ]
     },
     "execution_count": 6,
     "metadata": {},
     "output_type": "execute_result"
    }
   ],
   "source": [
    "movies = pd.read_csv('/kaggle/input/the-movies-dataset/movies_metadata.csv')\n",
    "movies.head()"
   ]
  },
  {
   "cell_type": "code",
   "execution_count": null,
   "id": "35abc1b1",
   "metadata": {},
   "outputs": [],
   "source": []
  },
  {
   "cell_type": "markdown",
   "id": "19b75b97",
   "metadata": {},
   "source": [
    "##### We are going to ignore these files :-\n",
    "1. ratings       == This is a subset of 100,000 ratings from 700 users on 9,000 movies which is already included as a                               average_vote in movies dataset.\n",
    "2. links         == The file that contains the TMDB and IMDB IDs of all the movies featured in the Full MovieLens dataset which                     is also not useful to us in this project.\n",
    "3. links_small  == Contains the TMDB and IMDB IDs of a small subset of 9,000 movies of the Full Dataset again this is also not                      usefull to us in this project.\n",
    "4. ratings_small   == The subset of 100,000 ratings from 700 users on 9,000 movies which is not usefull to us."
   ]
  },
  {
   "cell_type": "code",
   "execution_count": 7,
   "id": "49ab42c0",
   "metadata": {
    "execution": {
     "iopub.execute_input": "2023-02-10T21:05:41.925980Z",
     "iopub.status.busy": "2023-02-10T21:05:41.925369Z",
     "iopub.status.idle": "2023-02-10T21:05:42.002513Z",
     "shell.execute_reply": "2023-02-10T21:05:42.001135Z",
     "shell.execute_reply.started": "2023-02-10T21:05:41.925920Z"
    }
   },
   "outputs": [
    {
     "name": "stdout",
     "output_type": "stream",
     "text": [
      "<class 'pandas.core.frame.DataFrame'>\n",
      "RangeIndex: 45466 entries, 0 to 45465\n",
      "Data columns (total 24 columns):\n",
      " #   Column                 Non-Null Count  Dtype  \n",
      "---  ------                 --------------  -----  \n",
      " 0   adult                  45466 non-null  object \n",
      " 1   belongs_to_collection  4494 non-null   object \n",
      " 2   budget                 45466 non-null  object \n",
      " 3   genres                 45466 non-null  object \n",
      " 4   homepage               7782 non-null   object \n",
      " 5   id                     45466 non-null  object \n",
      " 6   imdb_id                45449 non-null  object \n",
      " 7   original_language      45455 non-null  object \n",
      " 8   original_title         45466 non-null  object \n",
      " 9   overview               44512 non-null  object \n",
      " 10  popularity             45461 non-null  object \n",
      " 11  poster_path            45080 non-null  object \n",
      " 12  production_companies   45463 non-null  object \n",
      " 13  production_countries   45463 non-null  object \n",
      " 14  release_date           45379 non-null  object \n",
      " 15  revenue                45460 non-null  float64\n",
      " 16  runtime                45203 non-null  float64\n",
      " 17  spoken_languages       45460 non-null  object \n",
      " 18  status                 45379 non-null  object \n",
      " 19  tagline                20412 non-null  object \n",
      " 20  title                  45460 non-null  object \n",
      " 21  video                  45460 non-null  object \n",
      " 22  vote_average           45460 non-null  float64\n",
      " 23  vote_count             45460 non-null  float64\n",
      "dtypes: float64(4), object(20)\n",
      "memory usage: 8.3+ MB\n"
     ]
    }
   ],
   "source": [
    "movies.info()"
   ]
  },
  {
   "cell_type": "code",
   "execution_count": 8,
   "id": "64cb24df",
   "metadata": {
    "execution": {
     "iopub.execute_input": "2023-02-10T21:05:42.004439Z",
     "iopub.status.busy": "2023-02-10T21:05:42.003973Z",
     "iopub.status.idle": "2023-02-10T21:05:42.037991Z",
     "shell.execute_reply": "2023-02-10T21:05:42.036403Z",
     "shell.execute_reply.started": "2023-02-10T21:05:42.004397Z"
    }
   },
   "outputs": [
    {
     "name": "stdout",
     "output_type": "stream",
     "text": [
      "<class 'pandas.core.frame.DataFrame'>\n",
      "RangeIndex: 45476 entries, 0 to 45475\n",
      "Data columns (total 3 columns):\n",
      " #   Column  Non-Null Count  Dtype \n",
      "---  ------  --------------  ----- \n",
      " 0   cast    45476 non-null  object\n",
      " 1   crew    45476 non-null  object\n",
      " 2   id      45476 non-null  int64 \n",
      "dtypes: int64(1), object(2)\n",
      "memory usage: 1.0+ MB\n"
     ]
    }
   ],
   "source": [
    "credits.info()"
   ]
  },
  {
   "cell_type": "code",
   "execution_count": 9,
   "id": "98db33f4",
   "metadata": {
    "execution": {
     "iopub.execute_input": "2023-02-10T21:05:42.040548Z",
     "iopub.status.busy": "2023-02-10T21:05:42.039545Z",
     "iopub.status.idle": "2023-02-10T21:05:42.058835Z",
     "shell.execute_reply": "2023-02-10T21:05:42.057443Z",
     "shell.execute_reply.started": "2023-02-10T21:05:42.040505Z"
    }
   },
   "outputs": [
    {
     "name": "stdout",
     "output_type": "stream",
     "text": [
      "<class 'pandas.core.frame.DataFrame'>\n",
      "RangeIndex: 46419 entries, 0 to 46418\n",
      "Data columns (total 2 columns):\n",
      " #   Column    Non-Null Count  Dtype \n",
      "---  ------    --------------  ----- \n",
      " 0   id        46419 non-null  int64 \n",
      " 1   keywords  46419 non-null  object\n",
      "dtypes: int64(1), object(1)\n",
      "memory usage: 725.4+ KB\n"
     ]
    }
   ],
   "source": [
    "keywords.info()"
   ]
  },
  {
   "cell_type": "code",
   "execution_count": 10,
   "id": "066a21fb",
   "metadata": {
    "execution": {
     "iopub.execute_input": "2023-02-10T21:05:42.061157Z",
     "iopub.status.busy": "2023-02-10T21:05:42.060700Z",
     "iopub.status.idle": "2023-02-10T21:05:42.105220Z",
     "shell.execute_reply": "2023-02-10T21:05:42.103583Z",
     "shell.execute_reply.started": "2023-02-10T21:05:42.061114Z"
    }
   },
   "outputs": [],
   "source": [
    "## Let's add those three files movies, credits and keywords based on id\n",
    "df = credits.merge(keywords,on='id')"
   ]
  },
  {
   "cell_type": "code",
   "execution_count": 11,
   "id": "3e1e1bf7",
   "metadata": {
    "execution": {
     "iopub.execute_input": "2023-02-10T21:05:42.107714Z",
     "iopub.status.busy": "2023-02-10T21:05:42.107142Z",
     "iopub.status.idle": "2023-02-10T21:05:42.123698Z",
     "shell.execute_reply": "2023-02-10T21:05:42.122340Z",
     "shell.execute_reply.started": "2023-02-10T21:05:42.107646Z"
    }
   },
   "outputs": [
    {
     "data": {
      "text/html": [
       "<div>\n",
       "<style scoped>\n",
       "    .dataframe tbody tr th:only-of-type {\n",
       "        vertical-align: middle;\n",
       "    }\n",
       "\n",
       "    .dataframe tbody tr th {\n",
       "        vertical-align: top;\n",
       "    }\n",
       "\n",
       "    .dataframe thead th {\n",
       "        text-align: right;\n",
       "    }\n",
       "</style>\n",
       "<table border=\"1\" class=\"dataframe\">\n",
       "  <thead>\n",
       "    <tr style=\"text-align: right;\">\n",
       "      <th></th>\n",
       "      <th>cast</th>\n",
       "      <th>crew</th>\n",
       "      <th>id</th>\n",
       "      <th>keywords</th>\n",
       "    </tr>\n",
       "  </thead>\n",
       "  <tbody>\n",
       "    <tr>\n",
       "      <th>0</th>\n",
       "      <td>[{'cast_id': 14, 'character': 'Woody (voice)',...</td>\n",
       "      <td>[{'credit_id': '52fe4284c3a36847f8024f49', 'de...</td>\n",
       "      <td>862</td>\n",
       "      <td>[{'id': 931, 'name': 'jealousy'}, {'id': 4290,...</td>\n",
       "    </tr>\n",
       "    <tr>\n",
       "      <th>1</th>\n",
       "      <td>[{'cast_id': 1, 'character': 'Alan Parrish', '...</td>\n",
       "      <td>[{'credit_id': '52fe44bfc3a36847f80a7cd1', 'de...</td>\n",
       "      <td>8844</td>\n",
       "      <td>[{'id': 10090, 'name': 'board game'}, {'id': 1...</td>\n",
       "    </tr>\n",
       "    <tr>\n",
       "      <th>2</th>\n",
       "      <td>[{'cast_id': 2, 'character': 'Max Goldman', 'c...</td>\n",
       "      <td>[{'credit_id': '52fe466a9251416c75077a89', 'de...</td>\n",
       "      <td>15602</td>\n",
       "      <td>[{'id': 1495, 'name': 'fishing'}, {'id': 12392...</td>\n",
       "    </tr>\n",
       "    <tr>\n",
       "      <th>3</th>\n",
       "      <td>[{'cast_id': 1, 'character': \"Savannah 'Vannah...</td>\n",
       "      <td>[{'credit_id': '52fe44779251416c91011acb', 'de...</td>\n",
       "      <td>31357</td>\n",
       "      <td>[{'id': 818, 'name': 'based on novel'}, {'id':...</td>\n",
       "    </tr>\n",
       "    <tr>\n",
       "      <th>4</th>\n",
       "      <td>[{'cast_id': 1, 'character': 'George Banks', '...</td>\n",
       "      <td>[{'credit_id': '52fe44959251416c75039ed7', 'de...</td>\n",
       "      <td>11862</td>\n",
       "      <td>[{'id': 1009, 'name': 'baby'}, {'id': 1599, 'n...</td>\n",
       "    </tr>\n",
       "  </tbody>\n",
       "</table>\n",
       "</div>"
      ],
      "text/plain": [
       "                                                cast  \\\n",
       "0  [{'cast_id': 14, 'character': 'Woody (voice)',...   \n",
       "1  [{'cast_id': 1, 'character': 'Alan Parrish', '...   \n",
       "2  [{'cast_id': 2, 'character': 'Max Goldman', 'c...   \n",
       "3  [{'cast_id': 1, 'character': \"Savannah 'Vannah...   \n",
       "4  [{'cast_id': 1, 'character': 'George Banks', '...   \n",
       "\n",
       "                                                crew     id  \\\n",
       "0  [{'credit_id': '52fe4284c3a36847f8024f49', 'de...    862   \n",
       "1  [{'credit_id': '52fe44bfc3a36847f80a7cd1', 'de...   8844   \n",
       "2  [{'credit_id': '52fe466a9251416c75077a89', 'de...  15602   \n",
       "3  [{'credit_id': '52fe44779251416c91011acb', 'de...  31357   \n",
       "4  [{'credit_id': '52fe44959251416c75039ed7', 'de...  11862   \n",
       "\n",
       "                                            keywords  \n",
       "0  [{'id': 931, 'name': 'jealousy'}, {'id': 4290,...  \n",
       "1  [{'id': 10090, 'name': 'board game'}, {'id': 1...  \n",
       "2  [{'id': 1495, 'name': 'fishing'}, {'id': 12392...  \n",
       "3  [{'id': 818, 'name': 'based on novel'}, {'id':...  \n",
       "4  [{'id': 1009, 'name': 'baby'}, {'id': 1599, 'n...  "
      ]
     },
     "execution_count": 11,
     "metadata": {},
     "output_type": "execute_result"
    }
   ],
   "source": [
    "df.head()"
   ]
  },
  {
   "cell_type": "code",
   "execution_count": 12,
   "id": "47f6941c",
   "metadata": {
    "execution": {
     "iopub.execute_input": "2023-02-10T21:05:42.131398Z",
     "iopub.status.busy": "2023-02-10T21:05:42.130921Z",
     "iopub.status.idle": "2023-02-10T21:05:42.214362Z",
     "shell.execute_reply": "2023-02-10T21:05:42.213144Z",
     "shell.execute_reply.started": "2023-02-10T21:05:42.131358Z"
    }
   },
   "outputs": [],
   "source": [
    "data = pd.concat([df,movies], axis=1)"
   ]
  },
  {
   "cell_type": "markdown",
   "id": "aa298bf9",
   "metadata": {},
   "source": [
    "# Let's Jump into it with our dataset"
   ]
  },
  {
   "cell_type": "code",
   "execution_count": 13,
   "id": "86f91936",
   "metadata": {
    "execution": {
     "iopub.execute_input": "2023-02-10T21:05:42.215962Z",
     "iopub.status.busy": "2023-02-10T21:05:42.215602Z",
     "iopub.status.idle": "2023-02-10T21:05:42.246602Z",
     "shell.execute_reply": "2023-02-10T21:05:42.245319Z",
     "shell.execute_reply.started": "2023-02-10T21:05:42.215929Z"
    }
   },
   "outputs": [
    {
     "data": {
      "text/html": [
       "<div>\n",
       "<style scoped>\n",
       "    .dataframe tbody tr th:only-of-type {\n",
       "        vertical-align: middle;\n",
       "    }\n",
       "\n",
       "    .dataframe tbody tr th {\n",
       "        vertical-align: top;\n",
       "    }\n",
       "\n",
       "    .dataframe thead th {\n",
       "        text-align: right;\n",
       "    }\n",
       "</style>\n",
       "<table border=\"1\" class=\"dataframe\">\n",
       "  <thead>\n",
       "    <tr style=\"text-align: right;\">\n",
       "      <th></th>\n",
       "      <th>cast</th>\n",
       "      <th>crew</th>\n",
       "      <th>id</th>\n",
       "      <th>keywords</th>\n",
       "      <th>adult</th>\n",
       "      <th>belongs_to_collection</th>\n",
       "      <th>budget</th>\n",
       "      <th>genres</th>\n",
       "      <th>homepage</th>\n",
       "      <th>id</th>\n",
       "      <th>...</th>\n",
       "      <th>release_date</th>\n",
       "      <th>revenue</th>\n",
       "      <th>runtime</th>\n",
       "      <th>spoken_languages</th>\n",
       "      <th>status</th>\n",
       "      <th>tagline</th>\n",
       "      <th>title</th>\n",
       "      <th>video</th>\n",
       "      <th>vote_average</th>\n",
       "      <th>vote_count</th>\n",
       "    </tr>\n",
       "  </thead>\n",
       "  <tbody>\n",
       "    <tr>\n",
       "      <th>0</th>\n",
       "      <td>[{'cast_id': 14, 'character': 'Woody (voice)',...</td>\n",
       "      <td>[{'credit_id': '52fe4284c3a36847f8024f49', 'de...</td>\n",
       "      <td>862</td>\n",
       "      <td>[{'id': 931, 'name': 'jealousy'}, {'id': 4290,...</td>\n",
       "      <td>False</td>\n",
       "      <td>{'id': 10194, 'name': 'Toy Story Collection', ...</td>\n",
       "      <td>30000000</td>\n",
       "      <td>[{'id': 16, 'name': 'Animation'}, {'id': 35, '...</td>\n",
       "      <td>http://toystory.disney.com/toy-story</td>\n",
       "      <td>862</td>\n",
       "      <td>...</td>\n",
       "      <td>1995-10-30</td>\n",
       "      <td>373554033.0</td>\n",
       "      <td>81.0</td>\n",
       "      <td>[{'iso_639_1': 'en', 'name': 'English'}]</td>\n",
       "      <td>Released</td>\n",
       "      <td>NaN</td>\n",
       "      <td>Toy Story</td>\n",
       "      <td>False</td>\n",
       "      <td>7.7</td>\n",
       "      <td>5415.0</td>\n",
       "    </tr>\n",
       "    <tr>\n",
       "      <th>1</th>\n",
       "      <td>[{'cast_id': 1, 'character': 'Alan Parrish', '...</td>\n",
       "      <td>[{'credit_id': '52fe44bfc3a36847f80a7cd1', 'de...</td>\n",
       "      <td>8844</td>\n",
       "      <td>[{'id': 10090, 'name': 'board game'}, {'id': 1...</td>\n",
       "      <td>False</td>\n",
       "      <td>NaN</td>\n",
       "      <td>65000000</td>\n",
       "      <td>[{'id': 12, 'name': 'Adventure'}, {'id': 14, '...</td>\n",
       "      <td>NaN</td>\n",
       "      <td>8844</td>\n",
       "      <td>...</td>\n",
       "      <td>1995-12-15</td>\n",
       "      <td>262797249.0</td>\n",
       "      <td>104.0</td>\n",
       "      <td>[{'iso_639_1': 'en', 'name': 'English'}, {'iso...</td>\n",
       "      <td>Released</td>\n",
       "      <td>Roll the dice and unleash the excitement!</td>\n",
       "      <td>Jumanji</td>\n",
       "      <td>False</td>\n",
       "      <td>6.9</td>\n",
       "      <td>2413.0</td>\n",
       "    </tr>\n",
       "  </tbody>\n",
       "</table>\n",
       "<p>2 rows × 28 columns</p>\n",
       "</div>"
      ],
      "text/plain": [
       "                                                cast  \\\n",
       "0  [{'cast_id': 14, 'character': 'Woody (voice)',...   \n",
       "1  [{'cast_id': 1, 'character': 'Alan Parrish', '...   \n",
       "\n",
       "                                                crew    id  \\\n",
       "0  [{'credit_id': '52fe4284c3a36847f8024f49', 'de...   862   \n",
       "1  [{'credit_id': '52fe44bfc3a36847f80a7cd1', 'de...  8844   \n",
       "\n",
       "                                            keywords  adult  \\\n",
       "0  [{'id': 931, 'name': 'jealousy'}, {'id': 4290,...  False   \n",
       "1  [{'id': 10090, 'name': 'board game'}, {'id': 1...  False   \n",
       "\n",
       "                               belongs_to_collection    budget  \\\n",
       "0  {'id': 10194, 'name': 'Toy Story Collection', ...  30000000   \n",
       "1                                                NaN  65000000   \n",
       "\n",
       "                                              genres  \\\n",
       "0  [{'id': 16, 'name': 'Animation'}, {'id': 35, '...   \n",
       "1  [{'id': 12, 'name': 'Adventure'}, {'id': 14, '...   \n",
       "\n",
       "                               homepage    id  ... release_date      revenue  \\\n",
       "0  http://toystory.disney.com/toy-story   862  ...   1995-10-30  373554033.0   \n",
       "1                                   NaN  8844  ...   1995-12-15  262797249.0   \n",
       "\n",
       "  runtime                                   spoken_languages    status  \\\n",
       "0    81.0           [{'iso_639_1': 'en', 'name': 'English'}]  Released   \n",
       "1   104.0  [{'iso_639_1': 'en', 'name': 'English'}, {'iso...  Released   \n",
       "\n",
       "                                     tagline      title  video vote_average  \\\n",
       "0                                        NaN  Toy Story  False          7.7   \n",
       "1  Roll the dice and unleash the excitement!    Jumanji  False          6.9   \n",
       "\n",
       "   vote_count  \n",
       "0      5415.0  \n",
       "1      2413.0  \n",
       "\n",
       "[2 rows x 28 columns]"
      ]
     },
     "execution_count": 13,
     "metadata": {},
     "output_type": "execute_result"
    }
   ],
   "source": [
    "data.head(2)"
   ]
  },
  {
   "cell_type": "code",
   "execution_count": 14,
   "id": "b26960e7",
   "metadata": {
    "execution": {
     "iopub.execute_input": "2023-02-10T21:05:42.249107Z",
     "iopub.status.busy": "2023-02-10T21:05:42.248580Z",
     "iopub.status.idle": "2023-02-10T21:05:42.333706Z",
     "shell.execute_reply": "2023-02-10T21:05:42.332244Z",
     "shell.execute_reply.started": "2023-02-10T21:05:42.249056Z"
    }
   },
   "outputs": [
    {
     "name": "stdout",
     "output_type": "stream",
     "text": [
      "<class 'pandas.core.frame.DataFrame'>\n",
      "Int64Index: 46496 entries, 0 to 46495\n",
      "Data columns (total 28 columns):\n",
      " #   Column                 Non-Null Count  Dtype  \n",
      "---  ------                 --------------  -----  \n",
      " 0   cast                   46496 non-null  object \n",
      " 1   crew                   46496 non-null  object \n",
      " 2   id                     46496 non-null  int64  \n",
      " 3   keywords               46496 non-null  object \n",
      " 4   adult                  45466 non-null  object \n",
      " 5   belongs_to_collection  4494 non-null   object \n",
      " 6   budget                 45466 non-null  object \n",
      " 7   genres                 45466 non-null  object \n",
      " 8   homepage               7782 non-null   object \n",
      " 9   id                     45466 non-null  object \n",
      " 10  imdb_id                45449 non-null  object \n",
      " 11  original_language      45455 non-null  object \n",
      " 12  original_title         45466 non-null  object \n",
      " 13  overview               44512 non-null  object \n",
      " 14  popularity             45461 non-null  object \n",
      " 15  poster_path            45080 non-null  object \n",
      " 16  production_companies   45463 non-null  object \n",
      " 17  production_countries   45463 non-null  object \n",
      " 18  release_date           45379 non-null  object \n",
      " 19  revenue                45460 non-null  float64\n",
      " 20  runtime                45203 non-null  float64\n",
      " 21  spoken_languages       45460 non-null  object \n",
      " 22  status                 45379 non-null  object \n",
      " 23  tagline                20412 non-null  object \n",
      " 24  title                  45460 non-null  object \n",
      " 25  video                  45460 non-null  object \n",
      " 26  vote_average           45460 non-null  float64\n",
      " 27  vote_count             45460 non-null  float64\n",
      "dtypes: float64(4), int64(1), object(23)\n",
      "memory usage: 10.3+ MB\n"
     ]
    }
   ],
   "source": [
    "data.info()"
   ]
  },
  {
   "cell_type": "code",
   "execution_count": 15,
   "id": "928f63d9",
   "metadata": {
    "execution": {
     "iopub.execute_input": "2023-02-10T21:05:42.336120Z",
     "iopub.status.busy": "2023-02-10T21:05:42.335684Z",
     "iopub.status.idle": "2023-02-10T21:05:42.415286Z",
     "shell.execute_reply": "2023-02-10T21:05:42.414064Z",
     "shell.execute_reply.started": "2023-02-10T21:05:42.336068Z"
    }
   },
   "outputs": [
    {
     "data": {
      "text/plain": [
       "cast                         0\n",
       "crew                         0\n",
       "id                           0\n",
       "keywords                     0\n",
       "adult                     1030\n",
       "belongs_to_collection    42002\n",
       "budget                    1030\n",
       "genres                    1030\n",
       "homepage                 38714\n",
       "id                        1030\n",
       "imdb_id                   1047\n",
       "original_language         1041\n",
       "original_title            1030\n",
       "overview                  1984\n",
       "popularity                1035\n",
       "poster_path               1416\n",
       "production_companies      1033\n",
       "production_countries      1033\n",
       "release_date              1117\n",
       "revenue                   1036\n",
       "runtime                   1293\n",
       "spoken_languages          1036\n",
       "status                    1117\n",
       "tagline                  26084\n",
       "title                     1036\n",
       "video                     1036\n",
       "vote_average              1036\n",
       "vote_count                1036\n",
       "dtype: int64"
      ]
     },
     "execution_count": 15,
     "metadata": {},
     "output_type": "execute_result"
    }
   ],
   "source": [
    "data.isnull().sum()"
   ]
  },
  {
   "cell_type": "code",
   "execution_count": 16,
   "id": "d803149f",
   "metadata": {
    "execution": {
     "iopub.execute_input": "2023-02-10T21:05:42.417149Z",
     "iopub.status.busy": "2023-02-10T21:05:42.416702Z",
     "iopub.status.idle": "2023-02-10T21:05:42.601470Z",
     "shell.execute_reply": "2023-02-10T21:05:42.600150Z",
     "shell.execute_reply.started": "2023-02-10T21:05:42.417111Z"
    }
   },
   "outputs": [],
   "source": [
    "## Let's drop the null values\n",
    "data = data.drop(['belongs_to_collection','homepage','tagline'],axis=1)\n",
    "data = data.dropna()"
   ]
  },
  {
   "cell_type": "code",
   "execution_count": 17,
   "id": "63a3646d",
   "metadata": {
    "execution": {
     "iopub.execute_input": "2023-02-10T21:05:42.603474Z",
     "iopub.status.busy": "2023-02-10T21:05:42.602936Z",
     "iopub.status.idle": "2023-02-10T21:05:42.611662Z",
     "shell.execute_reply": "2023-02-10T21:05:42.610278Z",
     "shell.execute_reply.started": "2023-02-10T21:05:42.603429Z"
    }
   },
   "outputs": [
    {
     "data": {
      "text/plain": [
       "(44048, 25)"
      ]
     },
     "execution_count": 17,
     "metadata": {},
     "output_type": "execute_result"
    }
   ],
   "source": [
    "data.shape"
   ]
  },
  {
   "cell_type": "markdown",
   "id": "d07195d7",
   "metadata": {},
   "source": [
    "#### Now, We are going to drop some columns and include some important columns. Let's consider these columns:--\n",
    "1. cast\n",
    "2. id\n",
    "3. keywords\n",
    "4. adult\n",
    "5. genres\n",
    "6. title\n",
    "7. production company\n",
    "8. production countary\n",
    "9. original languague\n",
    "10. overview\n",
    "11. popularity\n",
    "12. budget\n",
    "13. crew\n",
    "\n",
    "###### Rest we are not considering because according to me they are not affect in thay way in content based filtering."
   ]
  },
  {
   "cell_type": "code",
   "execution_count": 18,
   "id": "c0802514",
   "metadata": {
    "execution": {
     "iopub.execute_input": "2023-02-10T21:05:42.614126Z",
     "iopub.status.busy": "2023-02-10T21:05:42.613596Z",
     "iopub.status.idle": "2023-02-10T21:05:42.659469Z",
     "shell.execute_reply": "2023-02-10T21:05:42.658079Z",
     "shell.execute_reply.started": "2023-02-10T21:05:42.614071Z"
    }
   },
   "outputs": [],
   "source": [
    "movies = data[['adult','cast','crew','keywords','genres','title','production_companies','production_countries','original_language','overview','popularity','budget']]\n",
    "movies = pd.concat([movies,Id],axis=1)"
   ]
  },
  {
   "cell_type": "code",
   "execution_count": 19,
   "id": "49906649",
   "metadata": {
    "execution": {
     "iopub.execute_input": "2023-02-10T21:05:42.661377Z",
     "iopub.status.busy": "2023-02-10T21:05:42.660962Z",
     "iopub.status.idle": "2023-02-10T21:05:42.683530Z",
     "shell.execute_reply": "2023-02-10T21:05:42.682268Z",
     "shell.execute_reply.started": "2023-02-10T21:05:42.661338Z"
    }
   },
   "outputs": [
    {
     "data": {
      "text/html": [
       "<div>\n",
       "<style scoped>\n",
       "    .dataframe tbody tr th:only-of-type {\n",
       "        vertical-align: middle;\n",
       "    }\n",
       "\n",
       "    .dataframe tbody tr th {\n",
       "        vertical-align: top;\n",
       "    }\n",
       "\n",
       "    .dataframe thead th {\n",
       "        text-align: right;\n",
       "    }\n",
       "</style>\n",
       "<table border=\"1\" class=\"dataframe\">\n",
       "  <thead>\n",
       "    <tr style=\"text-align: right;\">\n",
       "      <th></th>\n",
       "      <th>adult</th>\n",
       "      <th>cast</th>\n",
       "      <th>crew</th>\n",
       "      <th>keywords</th>\n",
       "      <th>genres</th>\n",
       "      <th>title</th>\n",
       "      <th>production_companies</th>\n",
       "      <th>production_countries</th>\n",
       "      <th>original_language</th>\n",
       "      <th>overview</th>\n",
       "      <th>popularity</th>\n",
       "      <th>budget</th>\n",
       "      <th>id</th>\n",
       "    </tr>\n",
       "  </thead>\n",
       "  <tbody>\n",
       "    <tr>\n",
       "      <th>0</th>\n",
       "      <td>False</td>\n",
       "      <td>[{'cast_id': 14, 'character': 'Woody (voice)',...</td>\n",
       "      <td>[{'credit_id': '52fe4284c3a36847f8024f49', 'de...</td>\n",
       "      <td>[{'id': 931, 'name': 'jealousy'}, {'id': 4290,...</td>\n",
       "      <td>[{'id': 16, 'name': 'Animation'}, {'id': 35, '...</td>\n",
       "      <td>Toy Story</td>\n",
       "      <td>[{'name': 'Pixar Animation Studios', 'id': 3}]</td>\n",
       "      <td>[{'iso_3166_1': 'US', 'name': 'United States o...</td>\n",
       "      <td>en</td>\n",
       "      <td>Led by Woody, Andy's toys live happily in his ...</td>\n",
       "      <td>21.946943</td>\n",
       "      <td>30000000</td>\n",
       "      <td>862</td>\n",
       "    </tr>\n",
       "    <tr>\n",
       "      <th>1</th>\n",
       "      <td>False</td>\n",
       "      <td>[{'cast_id': 1, 'character': 'Alan Parrish', '...</td>\n",
       "      <td>[{'credit_id': '52fe44bfc3a36847f80a7cd1', 'de...</td>\n",
       "      <td>[{'id': 10090, 'name': 'board game'}, {'id': 1...</td>\n",
       "      <td>[{'id': 12, 'name': 'Adventure'}, {'id': 14, '...</td>\n",
       "      <td>Jumanji</td>\n",
       "      <td>[{'name': 'TriStar Pictures', 'id': 559}, {'na...</td>\n",
       "      <td>[{'iso_3166_1': 'US', 'name': 'United States o...</td>\n",
       "      <td>en</td>\n",
       "      <td>When siblings Judy and Peter discover an encha...</td>\n",
       "      <td>17.015539</td>\n",
       "      <td>65000000</td>\n",
       "      <td>8844</td>\n",
       "    </tr>\n",
       "    <tr>\n",
       "      <th>2</th>\n",
       "      <td>False</td>\n",
       "      <td>[{'cast_id': 2, 'character': 'Max Goldman', 'c...</td>\n",
       "      <td>[{'credit_id': '52fe466a9251416c75077a89', 'de...</td>\n",
       "      <td>[{'id': 1495, 'name': 'fishing'}, {'id': 12392...</td>\n",
       "      <td>[{'id': 10749, 'name': 'Romance'}, {'id': 35, ...</td>\n",
       "      <td>Grumpier Old Men</td>\n",
       "      <td>[{'name': 'Warner Bros.', 'id': 6194}, {'name'...</td>\n",
       "      <td>[{'iso_3166_1': 'US', 'name': 'United States o...</td>\n",
       "      <td>en</td>\n",
       "      <td>A family wedding reignites the ancient feud be...</td>\n",
       "      <td>11.7129</td>\n",
       "      <td>0</td>\n",
       "      <td>15602</td>\n",
       "    </tr>\n",
       "    <tr>\n",
       "      <th>3</th>\n",
       "      <td>False</td>\n",
       "      <td>[{'cast_id': 1, 'character': \"Savannah 'Vannah...</td>\n",
       "      <td>[{'credit_id': '52fe44779251416c91011acb', 'de...</td>\n",
       "      <td>[{'id': 818, 'name': 'based on novel'}, {'id':...</td>\n",
       "      <td>[{'id': 35, 'name': 'Comedy'}, {'id': 18, 'nam...</td>\n",
       "      <td>Waiting to Exhale</td>\n",
       "      <td>[{'name': 'Twentieth Century Fox Film Corporat...</td>\n",
       "      <td>[{'iso_3166_1': 'US', 'name': 'United States o...</td>\n",
       "      <td>en</td>\n",
       "      <td>Cheated on, mistreated and stepped on, the wom...</td>\n",
       "      <td>3.859495</td>\n",
       "      <td>16000000</td>\n",
       "      <td>31357</td>\n",
       "    </tr>\n",
       "    <tr>\n",
       "      <th>4</th>\n",
       "      <td>False</td>\n",
       "      <td>[{'cast_id': 1, 'character': 'George Banks', '...</td>\n",
       "      <td>[{'credit_id': '52fe44959251416c75039ed7', 'de...</td>\n",
       "      <td>[{'id': 1009, 'name': 'baby'}, {'id': 1599, 'n...</td>\n",
       "      <td>[{'id': 35, 'name': 'Comedy'}]</td>\n",
       "      <td>Father of the Bride Part II</td>\n",
       "      <td>[{'name': 'Sandollar Productions', 'id': 5842}...</td>\n",
       "      <td>[{'iso_3166_1': 'US', 'name': 'United States o...</td>\n",
       "      <td>en</td>\n",
       "      <td>Just when George Banks has recovered from his ...</td>\n",
       "      <td>8.387519</td>\n",
       "      <td>0</td>\n",
       "      <td>11862</td>\n",
       "    </tr>\n",
       "  </tbody>\n",
       "</table>\n",
       "</div>"
      ],
      "text/plain": [
       "   adult                                               cast  \\\n",
       "0  False  [{'cast_id': 14, 'character': 'Woody (voice)',...   \n",
       "1  False  [{'cast_id': 1, 'character': 'Alan Parrish', '...   \n",
       "2  False  [{'cast_id': 2, 'character': 'Max Goldman', 'c...   \n",
       "3  False  [{'cast_id': 1, 'character': \"Savannah 'Vannah...   \n",
       "4  False  [{'cast_id': 1, 'character': 'George Banks', '...   \n",
       "\n",
       "                                                crew  \\\n",
       "0  [{'credit_id': '52fe4284c3a36847f8024f49', 'de...   \n",
       "1  [{'credit_id': '52fe44bfc3a36847f80a7cd1', 'de...   \n",
       "2  [{'credit_id': '52fe466a9251416c75077a89', 'de...   \n",
       "3  [{'credit_id': '52fe44779251416c91011acb', 'de...   \n",
       "4  [{'credit_id': '52fe44959251416c75039ed7', 'de...   \n",
       "\n",
       "                                            keywords  \\\n",
       "0  [{'id': 931, 'name': 'jealousy'}, {'id': 4290,...   \n",
       "1  [{'id': 10090, 'name': 'board game'}, {'id': 1...   \n",
       "2  [{'id': 1495, 'name': 'fishing'}, {'id': 12392...   \n",
       "3  [{'id': 818, 'name': 'based on novel'}, {'id':...   \n",
       "4  [{'id': 1009, 'name': 'baby'}, {'id': 1599, 'n...   \n",
       "\n",
       "                                              genres  \\\n",
       "0  [{'id': 16, 'name': 'Animation'}, {'id': 35, '...   \n",
       "1  [{'id': 12, 'name': 'Adventure'}, {'id': 14, '...   \n",
       "2  [{'id': 10749, 'name': 'Romance'}, {'id': 35, ...   \n",
       "3  [{'id': 35, 'name': 'Comedy'}, {'id': 18, 'nam...   \n",
       "4                     [{'id': 35, 'name': 'Comedy'}]   \n",
       "\n",
       "                         title  \\\n",
       "0                    Toy Story   \n",
       "1                      Jumanji   \n",
       "2             Grumpier Old Men   \n",
       "3            Waiting to Exhale   \n",
       "4  Father of the Bride Part II   \n",
       "\n",
       "                                production_companies  \\\n",
       "0     [{'name': 'Pixar Animation Studios', 'id': 3}]   \n",
       "1  [{'name': 'TriStar Pictures', 'id': 559}, {'na...   \n",
       "2  [{'name': 'Warner Bros.', 'id': 6194}, {'name'...   \n",
       "3  [{'name': 'Twentieth Century Fox Film Corporat...   \n",
       "4  [{'name': 'Sandollar Productions', 'id': 5842}...   \n",
       "\n",
       "                                production_countries original_language  \\\n",
       "0  [{'iso_3166_1': 'US', 'name': 'United States o...                en   \n",
       "1  [{'iso_3166_1': 'US', 'name': 'United States o...                en   \n",
       "2  [{'iso_3166_1': 'US', 'name': 'United States o...                en   \n",
       "3  [{'iso_3166_1': 'US', 'name': 'United States o...                en   \n",
       "4  [{'iso_3166_1': 'US', 'name': 'United States o...                en   \n",
       "\n",
       "                                            overview popularity    budget  \\\n",
       "0  Led by Woody, Andy's toys live happily in his ...  21.946943  30000000   \n",
       "1  When siblings Judy and Peter discover an encha...  17.015539  65000000   \n",
       "2  A family wedding reignites the ancient feud be...    11.7129         0   \n",
       "3  Cheated on, mistreated and stepped on, the wom...   3.859495  16000000   \n",
       "4  Just when George Banks has recovered from his ...   8.387519         0   \n",
       "\n",
       "      id  \n",
       "0    862  \n",
       "1   8844  \n",
       "2  15602  \n",
       "3  31357  \n",
       "4  11862  "
      ]
     },
     "execution_count": 19,
     "metadata": {},
     "output_type": "execute_result"
    }
   ],
   "source": [
    "movies.head()"
   ]
  },
  {
   "cell_type": "code",
   "execution_count": 20,
   "id": "eda3d323",
   "metadata": {
    "execution": {
     "iopub.execute_input": "2023-02-10T21:05:42.686686Z",
     "iopub.status.busy": "2023-02-10T21:05:42.685392Z",
     "iopub.status.idle": "2023-02-10T21:05:42.746804Z",
     "shell.execute_reply": "2023-02-10T21:05:42.745143Z",
     "shell.execute_reply.started": "2023-02-10T21:05:42.686636Z"
    }
   },
   "outputs": [
    {
     "name": "stdout",
     "output_type": "stream",
     "text": [
      "<class 'pandas.core.frame.DataFrame'>\n",
      "Int64Index: 46419 entries, 0 to 46418\n",
      "Data columns (total 13 columns):\n",
      " #   Column                Non-Null Count  Dtype \n",
      "---  ------                --------------  ----- \n",
      " 0   adult                 44048 non-null  object\n",
      " 1   cast                  44048 non-null  object\n",
      " 2   crew                  44048 non-null  object\n",
      " 3   keywords              44048 non-null  object\n",
      " 4   genres                44048 non-null  object\n",
      " 5   title                 44048 non-null  object\n",
      " 6   production_companies  44048 non-null  object\n",
      " 7   production_countries  44048 non-null  object\n",
      " 8   original_language     44048 non-null  object\n",
      " 9   overview              44048 non-null  object\n",
      " 10  popularity            44048 non-null  object\n",
      " 11  budget                44048 non-null  object\n",
      " 12  id                    46419 non-null  int64 \n",
      "dtypes: int64(1), object(12)\n",
      "memory usage: 5.0+ MB\n"
     ]
    }
   ],
   "source": [
    "movies.info()"
   ]
  },
  {
   "cell_type": "code",
   "execution_count": 21,
   "id": "4ea3c27e",
   "metadata": {
    "execution": {
     "iopub.execute_input": "2023-02-10T21:05:42.748659Z",
     "iopub.status.busy": "2023-02-10T21:05:42.748283Z",
     "iopub.status.idle": "2023-02-10T21:05:42.801780Z",
     "shell.execute_reply": "2023-02-10T21:05:42.800300Z",
     "shell.execute_reply.started": "2023-02-10T21:05:42.748625Z"
    }
   },
   "outputs": [
    {
     "data": {
      "text/plain": [
       "adult                   2371\n",
       "cast                    2371\n",
       "crew                    2371\n",
       "keywords                2371\n",
       "genres                  2371\n",
       "title                   2371\n",
       "production_companies    2371\n",
       "production_countries    2371\n",
       "original_language       2371\n",
       "overview                2371\n",
       "popularity              2371\n",
       "budget                  2371\n",
       "id                         0\n",
       "dtype: int64"
      ]
     },
     "execution_count": 21,
     "metadata": {},
     "output_type": "execute_result"
    }
   ],
   "source": [
    "movies.isnull().sum()"
   ]
  },
  {
   "cell_type": "code",
   "execution_count": 22,
   "id": "6f03a73d",
   "metadata": {
    "execution": {
     "iopub.execute_input": "2023-02-10T21:05:42.804195Z",
     "iopub.status.busy": "2023-02-10T21:05:42.803779Z",
     "iopub.status.idle": "2023-02-10T21:05:42.870431Z",
     "shell.execute_reply": "2023-02-10T21:05:42.869143Z",
     "shell.execute_reply.started": "2023-02-10T21:05:42.804154Z"
    }
   },
   "outputs": [],
   "source": [
    "movies = movies.dropna()"
   ]
  },
  {
   "cell_type": "code",
   "execution_count": 23,
   "id": "262649bd",
   "metadata": {
    "execution": {
     "iopub.execute_input": "2023-02-10T21:05:42.872604Z",
     "iopub.status.busy": "2023-02-10T21:05:42.872221Z",
     "iopub.status.idle": "2023-02-10T21:05:42.880272Z",
     "shell.execute_reply": "2023-02-10T21:05:42.878825Z",
     "shell.execute_reply.started": "2023-02-10T21:05:42.872569Z"
    }
   },
   "outputs": [
    {
     "data": {
      "text/plain": [
       "(44048, 13)"
      ]
     },
     "execution_count": 23,
     "metadata": {},
     "output_type": "execute_result"
    }
   ],
   "source": [
    "movies.shape"
   ]
  },
  {
   "cell_type": "markdown",
   "id": "590e9546",
   "metadata": {},
   "source": [
    "# Now, We have prepared the dataset and we are going to do data cleaing"
   ]
  },
  {
   "cell_type": "code",
   "execution_count": 24,
   "id": "0c78c7a0",
   "metadata": {
    "execution": {
     "iopub.execute_input": "2023-02-10T21:05:42.883331Z",
     "iopub.status.busy": "2023-02-10T21:05:42.882134Z",
     "iopub.status.idle": "2023-02-10T21:05:42.903689Z",
     "shell.execute_reply": "2023-02-10T21:05:42.902198Z",
     "shell.execute_reply.started": "2023-02-10T21:05:42.883276Z"
    }
   },
   "outputs": [
    {
     "data": {
      "text/html": [
       "<div>\n",
       "<style scoped>\n",
       "    .dataframe tbody tr th:only-of-type {\n",
       "        vertical-align: middle;\n",
       "    }\n",
       "\n",
       "    .dataframe tbody tr th {\n",
       "        vertical-align: top;\n",
       "    }\n",
       "\n",
       "    .dataframe thead th {\n",
       "        text-align: right;\n",
       "    }\n",
       "</style>\n",
       "<table border=\"1\" class=\"dataframe\">\n",
       "  <thead>\n",
       "    <tr style=\"text-align: right;\">\n",
       "      <th></th>\n",
       "      <th>adult</th>\n",
       "      <th>cast</th>\n",
       "      <th>crew</th>\n",
       "      <th>keywords</th>\n",
       "      <th>genres</th>\n",
       "      <th>title</th>\n",
       "      <th>production_companies</th>\n",
       "      <th>production_countries</th>\n",
       "      <th>original_language</th>\n",
       "      <th>overview</th>\n",
       "      <th>popularity</th>\n",
       "      <th>budget</th>\n",
       "      <th>id</th>\n",
       "    </tr>\n",
       "  </thead>\n",
       "  <tbody>\n",
       "    <tr>\n",
       "      <th>0</th>\n",
       "      <td>False</td>\n",
       "      <td>[{'cast_id': 14, 'character': 'Woody (voice)',...</td>\n",
       "      <td>[{'credit_id': '52fe4284c3a36847f8024f49', 'de...</td>\n",
       "      <td>[{'id': 931, 'name': 'jealousy'}, {'id': 4290,...</td>\n",
       "      <td>[{'id': 16, 'name': 'Animation'}, {'id': 35, '...</td>\n",
       "      <td>Toy Story</td>\n",
       "      <td>[{'name': 'Pixar Animation Studios', 'id': 3}]</td>\n",
       "      <td>[{'iso_3166_1': 'US', 'name': 'United States o...</td>\n",
       "      <td>en</td>\n",
       "      <td>Led by Woody, Andy's toys live happily in his ...</td>\n",
       "      <td>21.946943</td>\n",
       "      <td>30000000</td>\n",
       "      <td>862</td>\n",
       "    </tr>\n",
       "  </tbody>\n",
       "</table>\n",
       "</div>"
      ],
      "text/plain": [
       "   adult                                               cast  \\\n",
       "0  False  [{'cast_id': 14, 'character': 'Woody (voice)',...   \n",
       "\n",
       "                                                crew  \\\n",
       "0  [{'credit_id': '52fe4284c3a36847f8024f49', 'de...   \n",
       "\n",
       "                                            keywords  \\\n",
       "0  [{'id': 931, 'name': 'jealousy'}, {'id': 4290,...   \n",
       "\n",
       "                                              genres      title  \\\n",
       "0  [{'id': 16, 'name': 'Animation'}, {'id': 35, '...  Toy Story   \n",
       "\n",
       "                             production_companies  \\\n",
       "0  [{'name': 'Pixar Animation Studios', 'id': 3}]   \n",
       "\n",
       "                                production_countries original_language  \\\n",
       "0  [{'iso_3166_1': 'US', 'name': 'United States o...                en   \n",
       "\n",
       "                                            overview popularity    budget   id  \n",
       "0  Led by Woody, Andy's toys live happily in his ...  21.946943  30000000  862  "
      ]
     },
     "execution_count": 24,
     "metadata": {},
     "output_type": "execute_result"
    }
   ],
   "source": [
    "movies.head(1)"
   ]
  },
  {
   "cell_type": "code",
   "execution_count": 25,
   "id": "99f5dbe5",
   "metadata": {
    "execution": {
     "iopub.execute_input": "2023-02-10T21:05:42.905881Z",
     "iopub.status.busy": "2023-02-10T21:05:42.905355Z",
     "iopub.status.idle": "2023-02-10T21:05:43.664383Z",
     "shell.execute_reply": "2023-02-10T21:05:43.663067Z",
     "shell.execute_reply.started": "2023-02-10T21:05:42.905833Z"
    }
   },
   "outputs": [
    {
     "data": {
      "text/plain": [
       "0"
      ]
     },
     "execution_count": 25,
     "metadata": {},
     "output_type": "execute_result"
    }
   ],
   "source": [
    "movies.duplicated().sum()"
   ]
  },
  {
   "cell_type": "code",
   "execution_count": 26,
   "id": "a8a9ab07",
   "metadata": {
    "execution": {
     "iopub.execute_input": "2023-02-10T21:05:43.666598Z",
     "iopub.status.busy": "2023-02-10T21:05:43.666158Z",
     "iopub.status.idle": "2023-02-10T21:05:43.728193Z",
     "shell.execute_reply": "2023-02-10T21:05:43.726228Z",
     "shell.execute_reply.started": "2023-02-10T21:05:43.666554Z"
    }
   },
   "outputs": [
    {
     "name": "stdout",
     "output_type": "stream",
     "text": [
      "<class 'pandas.core.frame.DataFrame'>\n",
      "Int64Index: 44048 entries, 0 to 45465\n",
      "Data columns (total 13 columns):\n",
      " #   Column                Non-Null Count  Dtype \n",
      "---  ------                --------------  ----- \n",
      " 0   adult                 44048 non-null  object\n",
      " 1   cast                  44048 non-null  object\n",
      " 2   crew                  44048 non-null  object\n",
      " 3   keywords              44048 non-null  object\n",
      " 4   genres                44048 non-null  object\n",
      " 5   title                 44048 non-null  object\n",
      " 6   production_companies  44048 non-null  object\n",
      " 7   production_countries  44048 non-null  object\n",
      " 8   original_language     44048 non-null  object\n",
      " 9   overview              44048 non-null  object\n",
      " 10  popularity            44048 non-null  object\n",
      " 11  budget                44048 non-null  object\n",
      " 12  id                    44048 non-null  int64 \n",
      "dtypes: int64(1), object(12)\n",
      "memory usage: 4.7+ MB\n"
     ]
    }
   ],
   "source": [
    "movies.info()"
   ]
  },
  {
   "cell_type": "code",
   "execution_count": 27,
   "id": "549e4c77",
   "metadata": {
    "execution": {
     "iopub.execute_input": "2023-02-10T21:05:43.730137Z",
     "iopub.status.busy": "2023-02-10T21:05:43.729719Z",
     "iopub.status.idle": "2023-02-10T21:05:43.738413Z",
     "shell.execute_reply": "2023-02-10T21:05:43.735362Z",
     "shell.execute_reply.started": "2023-02-10T21:05:43.730099Z"
    }
   },
   "outputs": [],
   "source": [
    "## Function for cleaning the genres and keywords columns.\n",
    "\n",
    "def convert(object):\n",
    "    lst = []\n",
    "    for i in ast.literal_eval(object):\n",
    "        lst.append(i['name'])\n",
    "    \n",
    "    return lst       "
   ]
  },
  {
   "cell_type": "code",
   "execution_count": null,
   "id": "075490b6",
   "metadata": {},
   "outputs": [],
   "source": []
  },
  {
   "cell_type": "code",
   "execution_count": 28,
   "id": "ca65d9d1",
   "metadata": {
    "execution": {
     "iopub.execute_input": "2023-02-10T21:05:43.741421Z",
     "iopub.status.busy": "2023-02-10T21:05:43.740817Z",
     "iopub.status.idle": "2023-02-10T21:05:43.755056Z",
     "shell.execute_reply": "2023-02-10T21:05:43.753437Z",
     "shell.execute_reply.started": "2023-02-10T21:05:43.741361Z"
    }
   },
   "outputs": [],
   "source": [
    "## Function for cleaning the cast,production_companies and production_countries columns\n",
    "def convert3(text):\n",
    "    L = []\n",
    "    counter = 0\n",
    "    for i in ast.literal_eval(text):\n",
    "        if counter < 3:\n",
    "            L.append(i['name'])\n",
    "        counter+=1\n",
    "    return L "
   ]
  },
  {
   "cell_type": "code",
   "execution_count": 29,
   "id": "be29ea44",
   "metadata": {
    "execution": {
     "iopub.execute_input": "2023-02-10T21:05:43.757881Z",
     "iopub.status.busy": "2023-02-10T21:05:43.757236Z",
     "iopub.status.idle": "2023-02-10T21:06:09.054543Z",
     "shell.execute_reply": "2023-02-10T21:06:09.053357Z",
     "shell.execute_reply.started": "2023-02-10T21:05:43.757824Z"
    }
   },
   "outputs": [
    {
     "data": {
      "text/html": [
       "<div>\n",
       "<style scoped>\n",
       "    .dataframe tbody tr th:only-of-type {\n",
       "        vertical-align: middle;\n",
       "    }\n",
       "\n",
       "    .dataframe tbody tr th {\n",
       "        vertical-align: top;\n",
       "    }\n",
       "\n",
       "    .dataframe thead th {\n",
       "        text-align: right;\n",
       "    }\n",
       "</style>\n",
       "<table border=\"1\" class=\"dataframe\">\n",
       "  <thead>\n",
       "    <tr style=\"text-align: right;\">\n",
       "      <th></th>\n",
       "      <th>adult</th>\n",
       "      <th>cast</th>\n",
       "      <th>crew</th>\n",
       "      <th>keywords</th>\n",
       "      <th>genres</th>\n",
       "      <th>title</th>\n",
       "      <th>production_companies</th>\n",
       "      <th>production_countries</th>\n",
       "      <th>original_language</th>\n",
       "      <th>overview</th>\n",
       "      <th>popularity</th>\n",
       "      <th>budget</th>\n",
       "      <th>id</th>\n",
       "    </tr>\n",
       "  </thead>\n",
       "  <tbody>\n",
       "    <tr>\n",
       "      <th>0</th>\n",
       "      <td>False</td>\n",
       "      <td>[Tom Hanks, Tim Allen, Don Rickles, Jim Varney...</td>\n",
       "      <td>[{'credit_id': '52fe4284c3a36847f8024f49', 'de...</td>\n",
       "      <td>[jealousy, toy, boy, friendship, friends, riva...</td>\n",
       "      <td>[Animation, Comedy, Family]</td>\n",
       "      <td>Toy Story</td>\n",
       "      <td>[Pixar Animation Studios]</td>\n",
       "      <td>[United States of America]</td>\n",
       "      <td>en</td>\n",
       "      <td>Led by Woody, Andy's toys live happily in his ...</td>\n",
       "      <td>21.946943</td>\n",
       "      <td>30000000</td>\n",
       "      <td>862</td>\n",
       "    </tr>\n",
       "    <tr>\n",
       "      <th>1</th>\n",
       "      <td>False</td>\n",
       "      <td>[Robin Williams, Jonathan Hyde, Kirsten Dunst,...</td>\n",
       "      <td>[{'credit_id': '52fe44bfc3a36847f80a7cd1', 'de...</td>\n",
       "      <td>[board game, disappearance, based on children'...</td>\n",
       "      <td>[Adventure, Fantasy, Family]</td>\n",
       "      <td>Jumanji</td>\n",
       "      <td>[TriStar Pictures, Teitler Film, Interscope Co...</td>\n",
       "      <td>[United States of America]</td>\n",
       "      <td>en</td>\n",
       "      <td>When siblings Judy and Peter discover an encha...</td>\n",
       "      <td>17.015539</td>\n",
       "      <td>65000000</td>\n",
       "      <td>8844</td>\n",
       "    </tr>\n",
       "  </tbody>\n",
       "</table>\n",
       "</div>"
      ],
      "text/plain": [
       "   adult                                               cast  \\\n",
       "0  False  [Tom Hanks, Tim Allen, Don Rickles, Jim Varney...   \n",
       "1  False  [Robin Williams, Jonathan Hyde, Kirsten Dunst,...   \n",
       "\n",
       "                                                crew  \\\n",
       "0  [{'credit_id': '52fe4284c3a36847f8024f49', 'de...   \n",
       "1  [{'credit_id': '52fe44bfc3a36847f80a7cd1', 'de...   \n",
       "\n",
       "                                            keywords  \\\n",
       "0  [jealousy, toy, boy, friendship, friends, riva...   \n",
       "1  [board game, disappearance, based on children'...   \n",
       "\n",
       "                         genres      title  \\\n",
       "0   [Animation, Comedy, Family]  Toy Story   \n",
       "1  [Adventure, Fantasy, Family]    Jumanji   \n",
       "\n",
       "                                production_companies  \\\n",
       "0                          [Pixar Animation Studios]   \n",
       "1  [TriStar Pictures, Teitler Film, Interscope Co...   \n",
       "\n",
       "         production_countries original_language  \\\n",
       "0  [United States of America]                en   \n",
       "1  [United States of America]                en   \n",
       "\n",
       "                                            overview popularity    budget  \\\n",
       "0  Led by Woody, Andy's toys live happily in his ...  21.946943  30000000   \n",
       "1  When siblings Judy and Peter discover an encha...  17.015539  65000000   \n",
       "\n",
       "     id  \n",
       "0   862  \n",
       "1  8844  "
      ]
     },
     "execution_count": 29,
     "metadata": {},
     "output_type": "execute_result"
    }
   ],
   "source": [
    "movies['genres'] = movies['genres'].apply(convert)\n",
    "movies['keywords'] = movies['keywords'].apply(convert)\n",
    "movies['cast'] = movies['cast'].apply(convert)\n",
    "movies['production_companies'] = movies['production_companies'].apply(convert3)\n",
    "movies['production_countries'] = movies['production_countries'].apply(convert3)\n",
    "\n",
    "\n",
    "movies.head(2)"
   ]
  },
  {
   "cell_type": "code",
   "execution_count": 30,
   "id": "941c9a74",
   "metadata": {
    "execution": {
     "iopub.execute_input": "2023-02-10T21:06:09.061103Z",
     "iopub.status.busy": "2023-02-10T21:06:09.060664Z",
     "iopub.status.idle": "2023-02-10T21:06:09.066849Z",
     "shell.execute_reply": "2023-02-10T21:06:09.065369Z",
     "shell.execute_reply.started": "2023-02-10T21:06:09.061065Z"
    }
   },
   "outputs": [],
   "source": [
    "## Let's remove spaces from the columns\n",
    "\n",
    "def remove(L):\n",
    "    L1=[]\n",
    "    for i in L:\n",
    "        L1.append(i.replace(\" \",\"\"))\n",
    "    return L1    "
   ]
  },
  {
   "cell_type": "code",
   "execution_count": 31,
   "id": "065895e1",
   "metadata": {
    "execution": {
     "iopub.execute_input": "2023-02-10T21:06:09.069948Z",
     "iopub.status.busy": "2023-02-10T21:06:09.068823Z",
     "iopub.status.idle": "2023-02-10T21:06:09.947378Z",
     "shell.execute_reply": "2023-02-10T21:06:09.946158Z",
     "shell.execute_reply.started": "2023-02-10T21:06:09.069892Z"
    }
   },
   "outputs": [
    {
     "data": {
      "text/html": [
       "<div>\n",
       "<style scoped>\n",
       "    .dataframe tbody tr th:only-of-type {\n",
       "        vertical-align: middle;\n",
       "    }\n",
       "\n",
       "    .dataframe tbody tr th {\n",
       "        vertical-align: top;\n",
       "    }\n",
       "\n",
       "    .dataframe thead th {\n",
       "        text-align: right;\n",
       "    }\n",
       "</style>\n",
       "<table border=\"1\" class=\"dataframe\">\n",
       "  <thead>\n",
       "    <tr style=\"text-align: right;\">\n",
       "      <th></th>\n",
       "      <th>adult</th>\n",
       "      <th>cast</th>\n",
       "      <th>crew</th>\n",
       "      <th>keywords</th>\n",
       "      <th>genres</th>\n",
       "      <th>title</th>\n",
       "      <th>production_companies</th>\n",
       "      <th>production_countries</th>\n",
       "      <th>original_language</th>\n",
       "      <th>overview</th>\n",
       "      <th>popularity</th>\n",
       "      <th>budget</th>\n",
       "      <th>id</th>\n",
       "    </tr>\n",
       "  </thead>\n",
       "  <tbody>\n",
       "    <tr>\n",
       "      <th>0</th>\n",
       "      <td>False</td>\n",
       "      <td>[TomHanks, TimAllen, DonRickles, JimVarney, Wa...</td>\n",
       "      <td>[{'credit_id': '52fe4284c3a36847f8024f49', 'de...</td>\n",
       "      <td>[jealousy, toy, boy, friendship, friends, riva...</td>\n",
       "      <td>[Animation, Comedy, Family]</td>\n",
       "      <td>Toy Story</td>\n",
       "      <td>[PixarAnimationStudios]</td>\n",
       "      <td>[UnitedStatesofAmerica]</td>\n",
       "      <td>en</td>\n",
       "      <td>Led by Woody, Andy's toys live happily in his ...</td>\n",
       "      <td>21.946943</td>\n",
       "      <td>30000000</td>\n",
       "      <td>862</td>\n",
       "    </tr>\n",
       "    <tr>\n",
       "      <th>1</th>\n",
       "      <td>False</td>\n",
       "      <td>[RobinWilliams, JonathanHyde, KirstenDunst, Br...</td>\n",
       "      <td>[{'credit_id': '52fe44bfc3a36847f80a7cd1', 'de...</td>\n",
       "      <td>[boardgame, disappearance, basedonchildren'sbo...</td>\n",
       "      <td>[Adventure, Fantasy, Family]</td>\n",
       "      <td>Jumanji</td>\n",
       "      <td>[TriStarPictures, TeitlerFilm, InterscopeCommu...</td>\n",
       "      <td>[UnitedStatesofAmerica]</td>\n",
       "      <td>en</td>\n",
       "      <td>When siblings Judy and Peter discover an encha...</td>\n",
       "      <td>17.015539</td>\n",
       "      <td>65000000</td>\n",
       "      <td>8844</td>\n",
       "    </tr>\n",
       "  </tbody>\n",
       "</table>\n",
       "</div>"
      ],
      "text/plain": [
       "   adult                                               cast  \\\n",
       "0  False  [TomHanks, TimAllen, DonRickles, JimVarney, Wa...   \n",
       "1  False  [RobinWilliams, JonathanHyde, KirstenDunst, Br...   \n",
       "\n",
       "                                                crew  \\\n",
       "0  [{'credit_id': '52fe4284c3a36847f8024f49', 'de...   \n",
       "1  [{'credit_id': '52fe44bfc3a36847f80a7cd1', 'de...   \n",
       "\n",
       "                                            keywords  \\\n",
       "0  [jealousy, toy, boy, friendship, friends, riva...   \n",
       "1  [boardgame, disappearance, basedonchildren'sbo...   \n",
       "\n",
       "                         genres      title  \\\n",
       "0   [Animation, Comedy, Family]  Toy Story   \n",
       "1  [Adventure, Fantasy, Family]    Jumanji   \n",
       "\n",
       "                                production_companies     production_countries  \\\n",
       "0                            [PixarAnimationStudios]  [UnitedStatesofAmerica]   \n",
       "1  [TriStarPictures, TeitlerFilm, InterscopeCommu...  [UnitedStatesofAmerica]   \n",
       "\n",
       "  original_language                                           overview  \\\n",
       "0                en  Led by Woody, Andy's toys live happily in his ...   \n",
       "1                en  When siblings Judy and Peter discover an encha...   \n",
       "\n",
       "  popularity    budget    id  \n",
       "0  21.946943  30000000   862  \n",
       "1  17.015539  65000000  8844  "
      ]
     },
     "execution_count": 31,
     "metadata": {},
     "output_type": "execute_result"
    }
   ],
   "source": [
    "movies['cast'] = movies['cast'].apply(remove)\n",
    "movies['genres'] = movies['genres'].apply(remove)\n",
    "movies['keywords'] = movies['keywords'].apply(remove)\n",
    "movies['production_companies'] = movies['production_companies'].apply(remove)\n",
    "movies['production_countries'] = movies['production_countries'].apply(remove)\n",
    "\n",
    "movies.head(2)"
   ]
  },
  {
   "cell_type": "code",
   "execution_count": 32,
   "id": "af1f034f",
   "metadata": {
    "execution": {
     "iopub.execute_input": "2023-02-10T21:06:09.949135Z",
     "iopub.status.busy": "2023-02-10T21:06:09.948730Z",
     "iopub.status.idle": "2023-02-10T21:06:09.955583Z",
     "shell.execute_reply": "2023-02-10T21:06:09.954241Z",
     "shell.execute_reply.started": "2023-02-10T21:06:09.949098Z"
    }
   },
   "outputs": [],
   "source": [
    "## Let's define a function for extracting Director name\n",
    "def director(object):\n",
    "    L=[]\n",
    "    for i in ast.literal_eval(object):\n",
    "        if i['job'] == 'Director':\n",
    "            L.append(i['name'])\n",
    "    return L        "
   ]
  },
  {
   "cell_type": "code",
   "execution_count": 33,
   "id": "8bb1d693",
   "metadata": {
    "execution": {
     "iopub.execute_input": "2023-02-10T21:06:09.957339Z",
     "iopub.status.busy": "2023-02-10T21:06:09.956943Z",
     "iopub.status.idle": "2023-02-10T21:06:25.234238Z",
     "shell.execute_reply": "2023-02-10T21:06:25.233119Z",
     "shell.execute_reply.started": "2023-02-10T21:06:09.957304Z"
    }
   },
   "outputs": [],
   "source": [
    "movies['crew'] = movies['crew'].apply(director)"
   ]
  },
  {
   "cell_type": "code",
   "execution_count": 34,
   "id": "7990c8c5",
   "metadata": {
    "execution": {
     "iopub.execute_input": "2023-02-10T21:06:25.235894Z",
     "iopub.status.busy": "2023-02-10T21:06:25.235528Z",
     "iopub.status.idle": "2023-02-10T21:06:25.844240Z",
     "shell.execute_reply": "2023-02-10T21:06:25.842971Z",
     "shell.execute_reply.started": "2023-02-10T21:06:25.235859Z"
    }
   },
   "outputs": [],
   "source": [
    "movies['overview'] = movies['overview'].apply(lambda x:x.split())\n",
    "movies['original_language'] = movies['original_language'].apply(lambda x:x.split())"
   ]
  },
  {
   "cell_type": "code",
   "execution_count": 35,
   "id": "64f42ea7",
   "metadata": {
    "execution": {
     "iopub.execute_input": "2023-02-10T21:06:25.846229Z",
     "iopub.status.busy": "2023-02-10T21:06:25.845798Z",
     "iopub.status.idle": "2023-02-10T21:06:28.112973Z",
     "shell.execute_reply": "2023-02-10T21:06:28.111636Z",
     "shell.execute_reply.started": "2023-02-10T21:06:25.846188Z"
    }
   },
   "outputs": [],
   "source": [
    "movies['tags'] = movies['overview'] + movies['cast'] +movies['crew'] + movies['keywords'] + movies['genres'] + movies['production_companies'] + movies['production_countries'] + movies['original_language']"
   ]
  },
  {
   "cell_type": "code",
   "execution_count": 36,
   "id": "45aad4a1",
   "metadata": {
    "execution": {
     "iopub.execute_input": "2023-02-10T21:06:28.115136Z",
     "iopub.status.busy": "2023-02-10T21:06:28.114732Z",
     "iopub.status.idle": "2023-02-10T21:06:28.301849Z",
     "shell.execute_reply": "2023-02-10T21:06:28.300674Z",
     "shell.execute_reply.started": "2023-02-10T21:06:28.115100Z"
    }
   },
   "outputs": [
    {
     "data": {
      "text/html": [
       "<div>\n",
       "<style scoped>\n",
       "    .dataframe tbody tr th:only-of-type {\n",
       "        vertical-align: middle;\n",
       "    }\n",
       "\n",
       "    .dataframe tbody tr th {\n",
       "        vertical-align: top;\n",
       "    }\n",
       "\n",
       "    .dataframe thead th {\n",
       "        text-align: right;\n",
       "    }\n",
       "</style>\n",
       "<table border=\"1\" class=\"dataframe\">\n",
       "  <thead>\n",
       "    <tr style=\"text-align: right;\">\n",
       "      <th></th>\n",
       "      <th>adult</th>\n",
       "      <th>title</th>\n",
       "      <th>popularity</th>\n",
       "      <th>budget</th>\n",
       "      <th>id</th>\n",
       "      <th>tags</th>\n",
       "    </tr>\n",
       "  </thead>\n",
       "  <tbody>\n",
       "    <tr>\n",
       "      <th>0</th>\n",
       "      <td>False</td>\n",
       "      <td>Toy Story</td>\n",
       "      <td>21.946943</td>\n",
       "      <td>30000000</td>\n",
       "      <td>862</td>\n",
       "      <td>Led by Woody, Andy's toys live happily in his ...</td>\n",
       "    </tr>\n",
       "    <tr>\n",
       "      <th>1</th>\n",
       "      <td>False</td>\n",
       "      <td>Jumanji</td>\n",
       "      <td>17.015539</td>\n",
       "      <td>65000000</td>\n",
       "      <td>8844</td>\n",
       "      <td>When siblings Judy and Peter discover an encha...</td>\n",
       "    </tr>\n",
       "    <tr>\n",
       "      <th>2</th>\n",
       "      <td>False</td>\n",
       "      <td>Grumpier Old Men</td>\n",
       "      <td>11.7129</td>\n",
       "      <td>0</td>\n",
       "      <td>15602</td>\n",
       "      <td>A family wedding reignites the ancient feud be...</td>\n",
       "    </tr>\n",
       "    <tr>\n",
       "      <th>3</th>\n",
       "      <td>False</td>\n",
       "      <td>Waiting to Exhale</td>\n",
       "      <td>3.859495</td>\n",
       "      <td>16000000</td>\n",
       "      <td>31357</td>\n",
       "      <td>Cheated on, mistreated and stepped on, the wom...</td>\n",
       "    </tr>\n",
       "    <tr>\n",
       "      <th>4</th>\n",
       "      <td>False</td>\n",
       "      <td>Father of the Bride Part II</td>\n",
       "      <td>8.387519</td>\n",
       "      <td>0</td>\n",
       "      <td>11862</td>\n",
       "      <td>Just when George Banks has recovered from his ...</td>\n",
       "    </tr>\n",
       "  </tbody>\n",
       "</table>\n",
       "</div>"
      ],
      "text/plain": [
       "   adult                        title popularity    budget     id  \\\n",
       "0  False                    Toy Story  21.946943  30000000    862   \n",
       "1  False                      Jumanji  17.015539  65000000   8844   \n",
       "2  False             Grumpier Old Men    11.7129         0  15602   \n",
       "3  False            Waiting to Exhale   3.859495  16000000  31357   \n",
       "4  False  Father of the Bride Part II   8.387519         0  11862   \n",
       "\n",
       "                                                tags  \n",
       "0  Led by Woody, Andy's toys live happily in his ...  \n",
       "1  When siblings Judy and Peter discover an encha...  \n",
       "2  A family wedding reignites the ancient feud be...  \n",
       "3  Cheated on, mistreated and stepped on, the wom...  \n",
       "4  Just when George Banks has recovered from his ...  "
      ]
     },
     "execution_count": 36,
     "metadata": {},
     "output_type": "execute_result"
    }
   ],
   "source": [
    "new = movies.drop(columns=['overview','genres','keywords','cast','crew','production_companies','production_countries','original_language'])\n",
    "new['tags'] = new['tags'].apply(lambda x: \" \".join(x))\n",
    "new.head()\n"
   ]
  },
  {
   "cell_type": "code",
   "execution_count": 37,
   "id": "e21f8ff8",
   "metadata": {
    "execution": {
     "iopub.execute_input": "2023-02-10T21:06:28.303833Z",
     "iopub.status.busy": "2023-02-10T21:06:28.303468Z",
     "iopub.status.idle": "2023-02-10T21:06:28.336578Z",
     "shell.execute_reply": "2023-02-10T21:06:28.334454Z",
     "shell.execute_reply.started": "2023-02-10T21:06:28.303799Z"
    }
   },
   "outputs": [
    {
     "name": "stdout",
     "output_type": "stream",
     "text": [
      "<class 'pandas.core.frame.DataFrame'>\n",
      "Int64Index: 44048 entries, 0 to 45465\n",
      "Data columns (total 6 columns):\n",
      " #   Column      Non-Null Count  Dtype \n",
      "---  ------      --------------  ----- \n",
      " 0   adult       44048 non-null  object\n",
      " 1   title       44048 non-null  object\n",
      " 2   popularity  44048 non-null  object\n",
      " 3   budget      44048 non-null  object\n",
      " 4   id          44048 non-null  int64 \n",
      " 5   tags        44048 non-null  object\n",
      "dtypes: int64(1), object(5)\n",
      "memory usage: 2.4+ MB\n"
     ]
    }
   ],
   "source": [
    "new.info()"
   ]
  },
  {
   "cell_type": "code",
   "execution_count": 38,
   "id": "7b018968",
   "metadata": {
    "execution": {
     "iopub.execute_input": "2023-02-10T21:06:28.339380Z",
     "iopub.status.busy": "2023-02-10T21:06:28.338342Z",
     "iopub.status.idle": "2023-02-10T21:06:30.075082Z",
     "shell.execute_reply": "2023-02-10T21:06:30.074049Z",
     "shell.execute_reply.started": "2023-02-10T21:06:28.339335Z"
    }
   },
   "outputs": [],
   "source": [
    "import re ## Regular Expressions\n",
    "from nltk.corpus import stopwords\n",
    "from nltk.stem.porter import PorterStemmer\n",
    "\n",
    "ps = PorterStemmer()"
   ]
  },
  {
   "cell_type": "code",
   "execution_count": 39,
   "id": "06098704",
   "metadata": {
    "execution": {
     "iopub.execute_input": "2023-02-10T21:06:30.077528Z",
     "iopub.status.busy": "2023-02-10T21:06:30.076395Z",
     "iopub.status.idle": "2023-02-10T21:06:30.083722Z",
     "shell.execute_reply": "2023-02-10T21:06:30.082546Z",
     "shell.execute_reply.started": "2023-02-10T21:06:30.077486Z"
    }
   },
   "outputs": [],
   "source": [
    "def stemm(text):\n",
    "    L =[]\n",
    "    for i in text.split():\n",
    "        L.append(ps.stem(i))\n",
    "    return \" \".join(L)    "
   ]
  },
  {
   "cell_type": "code",
   "execution_count": 40,
   "id": "207f98f0",
   "metadata": {
    "execution": {
     "iopub.execute_input": "2023-02-10T21:06:30.085440Z",
     "iopub.status.busy": "2023-02-10T21:06:30.084974Z",
     "iopub.status.idle": "2023-02-10T21:07:53.350444Z",
     "shell.execute_reply": "2023-02-10T21:07:53.349043Z",
     "shell.execute_reply.started": "2023-02-10T21:06:30.085400Z"
    }
   },
   "outputs": [],
   "source": [
    "new['tags'] = new['tags'].apply(stemm)"
   ]
  },
  {
   "cell_type": "code",
   "execution_count": 41,
   "id": "6430770d",
   "metadata": {
    "execution": {
     "iopub.execute_input": "2023-02-10T21:07:53.353026Z",
     "iopub.status.busy": "2023-02-10T21:07:53.352598Z",
     "iopub.status.idle": "2023-02-10T21:07:53.362666Z",
     "shell.execute_reply": "2023-02-10T21:07:53.361208Z",
     "shell.execute_reply.started": "2023-02-10T21:07:53.352974Z"
    }
   },
   "outputs": [
    {
     "data": {
      "text/plain": [
       "\"when sibl judi and peter discov an enchant board game that open the door to a magic world, they unwittingli invit alan -- an adult who' been trap insid the game for 26 year -- into their live room. alan' onli hope for freedom is to finish the game, which prove riski as all three find themselv run from giant rhinoceroses, evil monkey and other terrifi creatures. robinwilliam jonathanhyd kirstendunst bradleypierc bonniehunt bebeneuwirth davidalangri patriciaclarkson adamhann-byrd laurabellbundi jameshandi gillianbarb brandonobray cyrusthiedek garyjosephthorup leonardzola lloydberri malcolmstewart annabelkershaw darrylhenriqu robyndriscol peterbry sarahgilson floricavlad junelion brendalockmul joe johnston boardgam disappear basedonchildren'sbook newhom reclus giantinsect adventur fantasi famili tristarpictur teitlerfilm interscopecommun unitedstatesofamerica en\""
      ]
     },
     "execution_count": 41,
     "metadata": {},
     "output_type": "execute_result"
    }
   ],
   "source": [
    "new['tags'][1]"
   ]
  },
  {
   "cell_type": "code",
   "execution_count": 42,
   "id": "d7cf670e",
   "metadata": {
    "execution": {
     "iopub.execute_input": "2023-02-10T21:07:53.364225Z",
     "iopub.status.busy": "2023-02-10T21:07:53.363836Z",
     "iopub.status.idle": "2023-02-10T21:07:53.375651Z",
     "shell.execute_reply": "2023-02-10T21:07:53.374446Z",
     "shell.execute_reply.started": "2023-02-10T21:07:53.364188Z"
    }
   },
   "outputs": [
    {
     "data": {
      "text/plain": [
       "\"a famili wed reignit the ancient feud between next-door neighbor and fish buddi john and max. meanwhile, a sultri italian divorcé open a restaur at the local bait shop, alarm the local who worri she'll scare the fish away. but she' less interest in seafood than she is in cook up a hot time with max. waltermatthau jacklemmon ann-margret sophialoren darylhannah burgessmeredith kevinpollak howard deutch fish bestfriend duringcreditssting oldmen romanc comedi warnerbros. lancasterg unitedstatesofamerica en\""
      ]
     },
     "execution_count": 42,
     "metadata": {},
     "output_type": "execute_result"
    }
   ],
   "source": [
    "new['tags'][2]"
   ]
  },
  {
   "cell_type": "code",
   "execution_count": 43,
   "id": "c5db3604",
   "metadata": {
    "execution": {
     "iopub.execute_input": "2023-02-10T21:07:53.378238Z",
     "iopub.status.busy": "2023-02-10T21:07:53.377446Z",
     "iopub.status.idle": "2023-02-10T21:07:53.390103Z",
     "shell.execute_reply": "2023-02-10T21:07:53.389028Z",
     "shell.execute_reply.started": "2023-02-10T21:07:53.378198Z"
    }
   },
   "outputs": [],
   "source": [
    "from sklearn.feature_extraction.text import TfidfVectorizer\n",
    "tv = TfidfVectorizer(max_features=5000,stop_words='english')"
   ]
  },
  {
   "cell_type": "code",
   "execution_count": 44,
   "id": "8682a53f",
   "metadata": {
    "execution": {
     "iopub.execute_input": "2023-02-10T21:07:53.392293Z",
     "iopub.status.busy": "2023-02-10T21:07:53.391626Z",
     "iopub.status.idle": "2023-02-10T21:08:00.877718Z",
     "shell.execute_reply": "2023-02-10T21:08:00.876338Z",
     "shell.execute_reply.started": "2023-02-10T21:07:53.392254Z"
    }
   },
   "outputs": [],
   "source": [
    "vectors = tv.fit_transform(new['tags']).toarray()"
   ]
  },
  {
   "cell_type": "code",
   "execution_count": 45,
   "id": "88d25044",
   "metadata": {
    "execution": {
     "iopub.execute_input": "2023-02-10T21:08:00.880324Z",
     "iopub.status.busy": "2023-02-10T21:08:00.879778Z",
     "iopub.status.idle": "2023-02-10T21:08:00.888472Z",
     "shell.execute_reply": "2023-02-10T21:08:00.887395Z",
     "shell.execute_reply.started": "2023-02-10T21:08:00.880269Z"
    }
   },
   "outputs": [
    {
     "data": {
      "text/plain": [
       "(44048, 5000)"
      ]
     },
     "execution_count": 45,
     "metadata": {},
     "output_type": "execute_result"
    }
   ],
   "source": [
    "vectors.shape"
   ]
  },
  {
   "cell_type": "code",
   "execution_count": 46,
   "id": "e7a52516",
   "metadata": {
    "execution": {
     "iopub.execute_input": "2023-02-10T21:08:00.891191Z",
     "iopub.status.busy": "2023-02-10T21:08:00.890038Z",
     "iopub.status.idle": "2023-02-10T21:08:00.901408Z",
     "shell.execute_reply": "2023-02-10T21:08:00.900301Z",
     "shell.execute_reply.started": "2023-02-10T21:08:00.891146Z"
    }
   },
   "outputs": [],
   "source": [
    "from sklearn.metrics.pairwise import cosine_similarity"
   ]
  },
  {
   "cell_type": "code",
   "execution_count": 47,
   "id": "95df0b75",
   "metadata": {
    "execution": {
     "iopub.execute_input": "2023-02-10T21:08:00.904065Z",
     "iopub.status.busy": "2023-02-10T21:08:00.902990Z",
     "iopub.status.idle": "2023-02-10T21:10:43.953960Z",
     "shell.execute_reply": "2023-02-10T21:10:43.952738Z",
     "shell.execute_reply.started": "2023-02-10T21:08:00.903988Z"
    }
   },
   "outputs": [],
   "source": [
    "similarity = cosine_similarity(vectors)"
   ]
  },
  {
   "cell_type": "code",
   "execution_count": 48,
   "id": "c4d860f3",
   "metadata": {
    "execution": {
     "iopub.execute_input": "2023-02-10T21:10:43.956173Z",
     "iopub.status.busy": "2023-02-10T21:10:43.955725Z",
     "iopub.status.idle": "2023-02-10T21:10:43.965583Z",
     "shell.execute_reply": "2023-02-10T21:10:43.964214Z",
     "shell.execute_reply.started": "2023-02-10T21:10:43.956134Z"
    }
   },
   "outputs": [
    {
     "data": {
      "text/plain": [
       "array([[0.20452931, 0.        , 0.        , ..., 0.        , 0.        ,\n",
       "        0.        ],\n",
       "       [0.        , 0.0136759 , 0.        , ..., 0.        , 0.        ,\n",
       "        0.01071441],\n",
       "       [0.        , 0.        , 0.09336596, ..., 0.        , 0.        ,\n",
       "        0.        ],\n",
       "       ...,\n",
       "       [0.        , 0.        , 0.        , ..., 1.        , 0.00135653,\n",
       "        0.00300057],\n",
       "       [0.        , 0.        , 0.        , ..., 0.00135653, 1.        ,\n",
       "        0.00133734],\n",
       "       [0.        , 0.01071441, 0.        , ..., 0.00300057, 0.00133734,\n",
       "        1.        ]])"
      ]
     },
     "execution_count": 48,
     "metadata": {},
     "output_type": "execute_result"
    }
   ],
   "source": [
    "similarity"
   ]
  },
  {
   "cell_type": "code",
   "execution_count": 49,
   "id": "6f423168",
   "metadata": {
    "execution": {
     "iopub.execute_input": "2023-02-10T21:10:43.967752Z",
     "iopub.status.busy": "2023-02-10T21:10:43.966916Z",
     "iopub.status.idle": "2023-02-10T21:10:43.981148Z",
     "shell.execute_reply": "2023-02-10T21:10:43.979620Z",
     "shell.execute_reply.started": "2023-02-10T21:10:43.967713Z"
    }
   },
   "outputs": [],
   "source": [
    "def recommend(movie):\n",
    "    index = new[new['title']==movie].index[0]\n",
    "    distances = sorted(list(enumerate(similarity[index])),reverse=True,key = lambda x: x[1])\n",
    "    for i in distances[1:6]:\n",
    "        print(new.iloc[i[0]].title)"
   ]
  },
  {
   "cell_type": "code",
   "execution_count": 50,
   "id": "a7470ba8",
   "metadata": {
    "execution": {
     "iopub.execute_input": "2023-02-10T21:10:43.984381Z",
     "iopub.status.busy": "2023-02-10T21:10:43.982979Z",
     "iopub.status.idle": "2023-02-10T21:10:44.051050Z",
     "shell.execute_reply": "2023-02-10T21:10:44.050062Z",
     "shell.execute_reply.started": "2023-02-10T21:10:43.984335Z"
    }
   },
   "outputs": [
    {
     "name": "stdout",
     "output_type": "stream",
     "text": [
      "Motorcycle Gang\n",
      "Dave Chappelle: The Age of Spin\n",
      "Perfect Opposites\n",
      "The Last Patrol\n",
      "Highway Patrolman\n"
     ]
    }
   ],
   "source": [
    "recommend('Dangal')"
   ]
  },
  {
   "cell_type": "code",
   "execution_count": 51,
   "id": "92e976ff",
   "metadata": {
    "execution": {
     "iopub.execute_input": "2023-02-10T21:10:44.052546Z",
     "iopub.status.busy": "2023-02-10T21:10:44.052177Z",
     "iopub.status.idle": "2023-02-10T21:10:44.059248Z",
     "shell.execute_reply": "2023-02-10T21:10:44.057731Z",
     "shell.execute_reply.started": "2023-02-10T21:10:44.052510Z"
    }
   },
   "outputs": [],
   "source": [
    "import pickle"
   ]
  },
  {
   "cell_type": "code",
   "execution_count": null,
   "id": "812409f1",
   "metadata": {
    "execution": {
     "iopub.execute_input": "2023-02-10T21:10:44.061662Z",
     "iopub.status.busy": "2023-02-10T21:10:44.061269Z"
    }
   },
   "outputs": [],
   "source": [
    "pickle.dump(new,open('movie_list.pkl','wb'))\n",
    "pickle.dump(similarity,open('similarity.pkl','wb'))"
   ]
  },
  {
   "cell_type": "code",
   "execution_count": null,
   "id": "6aa3d73d",
   "metadata": {},
   "outputs": [],
   "source": []
  }
 ],
 "metadata": {
  "kernelspec": {
   "display_name": "Python 3 (ipykernel)",
   "language": "python",
   "name": "python3"
  },
  "language_info": {
   "codemirror_mode": {
    "name": "ipython",
    "version": 3
   },
   "file_extension": ".py",
   "mimetype": "text/x-python",
   "name": "python",
   "nbconvert_exporter": "python",
   "pygments_lexer": "ipython3",
   "version": "3.9.13"
  }
 },
 "nbformat": 4,
 "nbformat_minor": 5
}
